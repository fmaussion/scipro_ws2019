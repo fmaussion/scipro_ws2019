{
 "cells": [
  {
   "cell_type": "markdown",
   "metadata": {},
   "source": [
    "# Modules, import mechanism, namespaces, scope(s)"
   ]
  },
  {
   "cell_type": "markdown",
   "metadata": {},
   "source": [
    "In this chapter we will dive into one of the best features of python: the ``import`` mechanism. We will explain why modules are needed and how you can write one on your own."
   ]
  },
  {
   "cell_type": "markdown",
   "metadata": {
    "toc": true
   },
   "source": [
    "<h1>Table of Contents<span class=\"tocSkip\"></span></h1>\n",
    "<div class=\"toc\"><ul class=\"toc-item\"><li><span><a href=\"#Modules,-import-mechanism,-namespaces,-scope(s)\" data-toc-modified-id=\"Modules,-import-mechanism,-namespaces,-scope(s)-7\"><span class=\"toc-item-num\">7&nbsp;&nbsp;</span>Modules, import mechanism, namespaces, scope(s)</a></span><ul class=\"toc-item\"><li><span><a href=\"#Variables-scopes\" data-toc-modified-id=\"Variables-scopes-7.1\"><span class=\"toc-item-num\">7.1&nbsp;&nbsp;</span>Variables scopes</a></span></li><li><span><a href=\"#Modules\" data-toc-modified-id=\"Modules-7.2\"><span class=\"toc-item-num\">7.2&nbsp;&nbsp;</span>Modules</a></span></li><li><span><a href=\"#Namespaces\" data-toc-modified-id=\"Namespaces-7.3\"><span class=\"toc-item-num\">7.3&nbsp;&nbsp;</span>Namespaces</a></span></li><li><span><a href=\"#sys.path\" data-toc-modified-id=\"sys.path-7.4\"><span class=\"toc-item-num\">7.4&nbsp;&nbsp;</span>sys.path</a></span></li><li><span><a href=\"#Reimporting-modules\" data-toc-modified-id=\"Reimporting-modules-7.5\"><span class=\"toc-item-num\">7.5&nbsp;&nbsp;</span>Reimporting modules</a></span></li><li><span><a href=\"#Executing-modules-as-scripts\" data-toc-modified-id=\"Executing-modules-as-scripts-7.6\"><span class=\"toc-item-num\">7.6&nbsp;&nbsp;</span>Executing modules as scripts</a></span></li><li><span><a href=\"#Take-home-points\" data-toc-modified-id=\"Take-home-points-7.7\"><span class=\"toc-item-num\">7.7&nbsp;&nbsp;</span>Take home points</a></span></li><li><span><a href=\"#What's-next?\" data-toc-modified-id=\"What's-next?-7.8\"><span class=\"toc-item-num\">7.8&nbsp;&nbsp;</span>What's next?</a></span></li><li><span><a href=\"#License\" data-toc-modified-id=\"License-7.9\"><span class=\"toc-item-num\">7.9&nbsp;&nbsp;</span>License</a></span></li></ul></li></ul></div>"
   ]
  },
  {
   "cell_type": "markdown",
   "metadata": {},
   "source": [
    "## Variables scopes"
   ]
  },
  {
   "cell_type": "markdown",
   "metadata": {},
   "source": [
    "The **scope** of a variable is the region of the program where the variable is valid, i.e. the \"location\" where the variable name can be used to refer to the data it links to. Let's consider this first example:"
   ]
  },
  {
   "cell_type": "code",
   "execution_count": 1,
   "metadata": {},
   "outputs": [
    {
     "ename": "NameError",
     "evalue": "name 'i' is not defined",
     "output_type": "error",
     "traceback": [
      "\u001b[0;31m---------------------------------------------------------------------------\u001b[0m",
      "\u001b[0;31mNameError\u001b[0m                                 Traceback (most recent call last)",
      "\u001b[0;32m<ipython-input-1-1c2627dee89c>\u001b[0m in \u001b[0;36m<module>\u001b[0;34m()\u001b[0m\n\u001b[1;32m      3\u001b[0m     \u001b[0mprint\u001b[0m\u001b[0;34m(\u001b[0m\u001b[0mi\u001b[0m\u001b[0;34m,\u001b[0m \u001b[0;34m'in foo()'\u001b[0m\u001b[0;34m)\u001b[0m\u001b[0;34m\u001b[0m\u001b[0m\n\u001b[1;32m      4\u001b[0m \u001b[0;34m\u001b[0m\u001b[0m\n\u001b[0;32m----> 5\u001b[0;31m \u001b[0mprint\u001b[0m\u001b[0;34m(\u001b[0m\u001b[0mi\u001b[0m\u001b[0;34m,\u001b[0m \u001b[0;34m'global'\u001b[0m\u001b[0;34m)\u001b[0m  \u001b[0;31m# will throw an error\u001b[0m\u001b[0;34m\u001b[0m\u001b[0m\n\u001b[0m",
      "\u001b[0;31mNameError\u001b[0m: name 'i' is not defined"
     ]
    }
   ],
   "source": [
    "def foo():\n",
    "    i = 5\n",
    "    print(i, 'in foo()')\n",
    "\n",
    "print(i, 'global')  # will throw an error"
   ]
  },
  {
   "cell_type": "markdown",
   "metadata": {},
   "source": [
    "It doesn't work because the name ``i`` is defined in the function which we defined but never called (you can see this because nothing is printed), so the function's statements were actually never run. Let's see if the following example works better:"
   ]
  },
  {
   "cell_type": "code",
   "execution_count": 2,
   "metadata": {},
   "outputs": [
    {
     "name": "stdout",
     "output_type": "stream",
     "text": [
      "5 in foo()\n"
     ]
    },
    {
     "ename": "NameError",
     "evalue": "name 'i' is not defined",
     "output_type": "error",
     "traceback": [
      "\u001b[0;31m---------------------------------------------------------------------------\u001b[0m",
      "\u001b[0;31mNameError\u001b[0m                                 Traceback (most recent call last)",
      "\u001b[0;32m<ipython-input-2-b5c5ef25ae8d>\u001b[0m in \u001b[0;36m<module>\u001b[0;34m()\u001b[0m\n\u001b[1;32m      5\u001b[0m \u001b[0mfoo\u001b[0m\u001b[0;34m(\u001b[0m\u001b[0;34m)\u001b[0m\u001b[0;34m\u001b[0m\u001b[0m\n\u001b[1;32m      6\u001b[0m \u001b[0;34m\u001b[0m\u001b[0m\n\u001b[0;32m----> 7\u001b[0;31m \u001b[0mprint\u001b[0m\u001b[0;34m(\u001b[0m\u001b[0mi\u001b[0m\u001b[0;34m,\u001b[0m \u001b[0;34m'global'\u001b[0m\u001b[0;34m)\u001b[0m   \u001b[0;31m# will throw an error\u001b[0m\u001b[0;34m\u001b[0m\u001b[0m\n\u001b[0m",
      "\u001b[0;31mNameError\u001b[0m: name 'i' is not defined"
     ]
    }
   ],
   "source": [
    "def foo():\n",
    "    i = 5\n",
    "    print(i, 'in foo()')\n",
    "\n",
    "foo()\n",
    "\n",
    "print(i, 'global')   # will throw an error"
   ]
  },
  {
   "cell_type": "markdown",
   "metadata": {},
   "source": [
    "Here, the function is called and ``i`` is defined and equal to 5. However, the *scope* of the variable `i` is the block defined by the function ``foo``: outside of this scope the variable doesn't exist anymore. If this is understood, the following example might now be clearer?"
   ]
  },
  {
   "cell_type": "code",
   "execution_count": 3,
   "metadata": {},
   "outputs": [
    {
     "name": "stdout",
     "output_type": "stream",
     "text": [
      "1 global before foo()\n",
      "5 in foo()\n",
      "1 global after foo()\n"
     ]
    }
   ],
   "source": [
    "i = 1\n",
    "\n",
    "def foo():\n",
    "    i = 5\n",
    "    print(i, 'in foo()')\n",
    "\n",
    "print(i, 'global before foo()')\n",
    "\n",
    "foo()\n",
    "\n",
    "print(i, 'global after foo()')"
   ]
  },
  {
   "cell_type": "markdown",
   "metadata": {},
   "source": [
    "The **global scope** refers to the highest scope level (the module or, in interactive mode, the interpreter). The function's scope in turn is called **local scope**. One says that the global scope prevails because what is possible in one direction isn't possible in the other:"
   ]
  },
  {
   "cell_type": "code",
   "execution_count": 4,
   "metadata": {},
   "outputs": [
    {
     "name": "stdout",
     "output_type": "stream",
     "text": [
      "2 is there a k in foo()?\n"
     ]
    }
   ],
   "source": [
    "k = 2\n",
    "\n",
    "def foo():\n",
    "    print(k, 'is there a k in foo()?')\n",
    "\n",
    "foo()"
   ]
  },
  {
   "cell_type": "markdown",
   "metadata": {},
   "source": [
    "Yes, k is available in `foo()`: global variables are *also* available in the *nested* local scopes. They can be overridden locally (like in the example above), but this change won't be visible at the global scope level."
   ]
  },
  {
   "cell_type": "markdown",
   "metadata": {},
   "source": [
    "<img src=\"../img/logo_ex.png\" align=\"left\" style=\"width:1em; height:1em;\"> **Exercise**: do you think there is a way to really overwrite the value of a global variable from a local scope? If yes, can you find it and try it by yourself?"
   ]
  },
  {
   "cell_type": "markdown",
   "metadata": {},
   "source": [
    "## Modules "
   ]
  },
  {
   "cell_type": "markdown",
   "metadata": {},
   "source": [
    "Python **modules** are used to store a collection of functions and variables that can be imported into other modules or into the main module (the collection of variables that you have access to in a script executed at the top level or in calculator mode).\n",
    "\n",
    "A module is a file containing Python definitions and statements. The file name is the module name with the suffix `.py` appended. For instance, use your favorite text editor to create a file called `greetings.py` in the current directory with the following content:\n",
    "\n",
    "`greetings.py:`\n",
    "\n",
    "```python\n",
    "\"\"\"A module to say hi! in several languages.\"\"\"\n",
    "\n",
    "base = {\n",
    "    'en':'Hi {}!', \n",
    "    'fr':'Salut {}!', \n",
    "    'cn':'你好 {}!'\n",
    "}\n",
    "\n",
    "def say_hi(name, lang='en'):\n",
    "    \"\"\"Say hi in the language of your choice.\"\"\"\n",
    "    if lang not in base:\n",
    "        print('Language unknown: {}'.format(lang))\n",
    "    print(base[lang].format(name))\n",
    "    \n",
    "def add_lang(key, phrase):\n",
    "    \"\"\"Add a language to the list.\"\"\"\n",
    "    global base\n",
    "    if key in base:\n",
    "        print('Language {} already available'.format(key))\n",
    "        return\n",
    "    base[key] = phrase\n",
    "```"
   ]
  },
  {
   "cell_type": "markdown",
   "metadata": {},
   "source": [
    "Now enter the Python interpreter and import this module with the following command:"
   ]
  },
  {
   "cell_type": "code",
   "execution_count": 5,
   "metadata": {},
   "outputs": [],
   "source": [
    "import greetings"
   ]
  },
  {
   "cell_type": "markdown",
   "metadata": {},
   "source": [
    "By importing the module, we have access to the functions it contains:"
   ]
  },
  {
   "cell_type": "code",
   "execution_count": 6,
   "metadata": {},
   "outputs": [
    {
     "name": "stdout",
     "output_type": "stream",
     "text": [
      "Hi Fabi!\n",
      "你好 Xiao Li!\n"
     ]
    }
   ],
   "source": [
    "greetings.say_hi('Fabi')\n",
    "greetings.say_hi('Xiao Li', lang='cn')"
   ]
  },
  {
   "cell_type": "markdown",
   "metadata": {},
   "source": [
    "But also to the global variables defined at the top level:"
   ]
  },
  {
   "cell_type": "code",
   "execution_count": 7,
   "metadata": {},
   "outputs": [
    {
     "data": {
      "text/plain": [
       "{'cn': '你好 {}!', 'en': 'Hi {}!', 'fr': 'Salut {}!'}"
      ]
     },
     "execution_count": 7,
     "metadata": {},
     "output_type": "execute_result"
    }
   ],
   "source": [
    "greetings.base"
   ]
  },
  {
   "cell_type": "markdown",
   "metadata": {},
   "source": [
    "Now use the new `global` statement we just discovered:"
   ]
  },
  {
   "cell_type": "code",
   "execution_count": 8,
   "metadata": {},
   "outputs": [],
   "source": [
    "greetings.add_lang('de', 'Hallo {}!')"
   ]
  },
  {
   "cell_type": "code",
   "execution_count": 9,
   "metadata": {},
   "outputs": [
    {
     "name": "stdout",
     "output_type": "stream",
     "text": [
      "Hallo Boris!\n"
     ]
    }
   ],
   "source": [
    "greetings.say_hi('Boris', lang='de')"
   ]
  },
  {
   "cell_type": "markdown",
   "metadata": {},
   "source": [
    "## Namespaces "
   ]
  },
  {
   "cell_type": "markdown",
   "metadata": {},
   "source": [
    "Global variables in modules or scripts are useful, but they should be used with care. Indeed, since they are available in everywhere in the module, the **namespace** can quickly become \"polluted\": for large modules, it becomes hard to keep track of which variable is available where. This can become even more complicated when new modules with their own new variables and functions are used. \n",
    "\n",
    "Fortunately, the global scope is constrained to the current script or module, and using external modules is unlikely to cause confusion thanks to the ``import`` mechanism:"
   ]
  },
  {
   "cell_type": "code",
   "execution_count": 10,
   "metadata": {},
   "outputs": [
    {
     "name": "stdout",
     "output_type": "stream",
     "text": [
      "<module 'math' (built-in)>\n",
      "3.14 3.141592653589793\n"
     ]
    }
   ],
   "source": [
    "pi = 3.14\n",
    "import math\n",
    "print(math)\n",
    "print(pi, math.pi)"
   ]
  },
  {
   "cell_type": "markdown",
   "metadata": {},
   "source": [
    "By importing the ``math`` module (available in python's **standard library**), we have access to new variables and functions. What are they? We can use the built-in `dir()` function to find out:"
   ]
  },
  {
   "cell_type": "code",
   "execution_count": 11,
   "metadata": {},
   "outputs": [
    {
     "name": "stdout",
     "output_type": "stream",
     "text": [
      "['__doc__', '__loader__', '__name__', '__package__', '__spec__', 'acos', 'acosh', 'asin', 'asinh', 'atan', 'atan2', 'atanh', 'ceil', 'copysign', 'cos', 'cosh', 'degrees', 'e', 'erf', 'erfc', 'exp', 'expm1', 'fabs', 'factorial', 'floor', 'fmod', 'frexp', 'fsum', 'gamma', 'gcd', 'hypot', 'inf', 'isclose', 'isfinite', 'isinf', 'isnan', 'ldexp', 'lgamma', 'log', 'log10', 'log1p', 'log2', 'modf', 'nan', 'pi', 'pow', 'radians', 'sin', 'sinh', 'sqrt', 'tan', 'tanh', 'trunc']\n"
     ]
    }
   ],
   "source": [
    "print(dir(math))"
   ]
  },
  {
   "cell_type": "markdown",
   "metadata": {},
   "source": [
    "<img src=\"../img/logo_ex.png\" align=\"left\" style=\"width:1em; height:1em;\"> **Exercise**: now ask the documentation what ``dir`` does (remember how? Simply type ``? dir`` in the ipython interpreter, or use a search engine)."
   ]
  },
  {
   "cell_type": "markdown",
   "metadata": {},
   "source": [
    "Like our `greetings` module, the `math` module contains functions (like ``math.radians``) as well as variables (``math.nan``). For Python there is no fundamental difference between variables and functions (they are simply all attributes of the `math` module and therefore listed by `dir`). Some of the module attributes have a prefix of two underscores ``__``. We'll get back to them soon."
   ]
  },
  {
   "cell_type": "markdown",
   "metadata": {},
   "source": [
    "There are several ways to import (parts of) a module. See the four examples:"
   ]
  },
  {
   "cell_type": "code",
   "execution_count": 12,
   "metadata": {},
   "outputs": [
    {
     "data": {
      "text/plain": [
       "1.0"
      ]
     },
     "execution_count": 12,
     "metadata": {},
     "output_type": "execute_result"
    }
   ],
   "source": [
    "# A\n",
    "# Import an entire module and access its attributes with a \"dot\"\n",
    "import math\n",
    "math.sin(math.pi/2)"
   ]
  },
  {
   "cell_type": "code",
   "execution_count": 13,
   "metadata": {},
   "outputs": [
    {
     "data": {
      "text/plain": [
       "1.0"
      ]
     },
     "execution_count": 13,
     "metadata": {},
     "output_type": "execute_result"
    }
   ],
   "source": [
    "# B\n",
    "# Same as A, but store the module under a new variable named \"ma\"\n",
    "import math as ma\n",
    "ma.sin(ma.pi/2)"
   ]
  },
  {
   "cell_type": "code",
   "execution_count": 14,
   "metadata": {},
   "outputs": [
    {
     "data": {
      "text/plain": [
       "1.0"
      ]
     },
     "execution_count": 14,
     "metadata": {},
     "output_type": "execute_result"
    }
   ],
   "source": [
    "# C\n",
    "# Import the attributes sin and pi *only*\n",
    "from math import sin, pi\n",
    "sin(pi/2)"
   ]
  },
  {
   "cell_type": "code",
   "execution_count": 15,
   "metadata": {},
   "outputs": [
    {
     "data": {
      "text/plain": [
       "1.0"
      ]
     },
     "execution_count": 15,
     "metadata": {},
     "output_type": "execute_result"
    }
   ],
   "source": [
    "# D\n",
    "# Import everything from the module and add it in our global scope\n",
    "from math import *\n",
    "sin(pi/2)"
   ]
  },
  {
   "cell_type": "markdown",
   "metadata": {},
   "source": [
    "All four options lead to the same result: they compute the sinus of π/2.\n",
    "\n",
    "Now, which one to use? It is up to you, but there are some implicit rules (conventions) which are widely accepted:\n",
    "  1. In case of doubt, use option A. It is the most readable and the most *explicit*.\n",
    "  2. The exception to the first rule is when the library has a naming convention for its acronym. A good example is `numpy`, which [recommends to use](https://docs.scipy.org/doc/scipy/reference/tutorial/general.html) ``import numpy as np``.\n",
    "  3. Option C might be useful if the names you are importing are very explicit, and if you expect to use them often in your script. Otherwise, it is not recommended.\n",
    "  4. Option D is bad. Don't use it. \n",
    "  5. You can make an exception to rule 4 when working in the command line and exploring data. It should not be used in modules or scripts, though. "
   ]
  },
  {
   "cell_type": "markdown",
   "metadata": {},
   "source": [
    "<img src=\"../img/logo_ex.png\" align=\"left\" style=\"width:1em; height:1em;\"> **Exercise**: try to find arguments as to why is option D a bad idea. **If you can't find any reason, ask me next week**!"
   ]
  },
  {
   "cell_type": "markdown",
   "metadata": {},
   "source": [
    "## sys.path \n",
    "<a id='path'></a>"
   ]
  },
  {
   "cell_type": "markdown",
   "metadata": {},
   "source": [
    "But how does python know where to look for modules when you type ``import mymodule`` in the interpreter? Well, it relies on a mechanism very similar to linux's ``PATH`` environment variable. Remember this one? Within python, the directories where the interpreter will look for modules to import are listed in [sys.path](https://docs.python.org/3/library/sys.html#sys.path):"
   ]
  },
  {
   "cell_type": "markdown",
   "metadata": {},
   "source": [
    "```python\n",
    "import sys\n",
    "sys.path\n",
    "\n",
    "['',\n",
    " '/scratch/c707/c7071047/miniconda3/bin',\n",
    " '/scratch/c707/c7071047/miniconda3/lib/python36.zip',\n",
    " '/scratch/c707/c7071047/miniconda3/lib/python3.6',\n",
    " '/scratch/c707/c7071047/miniconda3/lib/python3.6/lib-dynload',\n",
    " '/scratch/c707/c7071047/miniconda3/lib/python3.6/site-packages',\n",
    " '/scratch/c707/c7071047/miniconda3/lib/python3.6/site-packages/cycler-0.10.0-py3.6.egg',\n",
    " '/scratch/c707/c7071047/miniconda3/lib/python3.6/site-packages/IPython/extensions',\n",
    " '/home/c7071047/.ipython']\n",
    "```"
   ]
  },
  {
   "cell_type": "markdown",
   "metadata": {},
   "source": [
    "Similar to the linux ``PATH`` mechanism, python will look into each of these directories *in order*. The first directory is always the current working directory (an empty string), the rest of the list may vary depending on your environment. When a file called ``mymodule.py`` is found, it is imported once (and only once) and added to the ``sys.modules`` variable, effectively telling python that the module has already been imported. **This means that if you change the file and import it again, nothing will change**. Fortunately, there are ways to avoid this behavior (see below)."
   ]
  },
  {
   "cell_type": "markdown",
   "metadata": {},
   "source": [
    "As you can see, there are many folders related to ``miniconda``, the tool we used to install python. This makes sense, because we want python to look for modules related to *our* installation of python (not the one used by our operating system). In particular, the ``site-packages`` folder is of interest to us. If you look into this folder using the linux command line or ipython's magic commands (remember how?) you'll find the many packages we already installed together last week.\n",
    "\n",
    "You can edit ``sys.path`` at your wish and add new folders to it, exactly as you would with the ``PATH`` environment variable in linux. In practice, however, it is recommended to use standard folders to install your packages instead of messing around with ``sys.path`` (I personally never had to change `sys.path`)."
   ]
  },
  {
   "cell_type": "markdown",
   "metadata": {},
   "source": [
    "<img src=\"../img/logo_ex.png\" align=\"left\" style=\"width:1em; height:1em;\"> **Exercise**: let's trick with ``sys.path`` a little: create a fake module called ``matplotlib.py`` in your current working directory. Open a python interpreter and ``import matplotlib``. Which of the modules (the official or the fake one) is loaded? "
   ]
  },
  {
   "cell_type": "markdown",
   "metadata": {},
   "source": [
    "Because of this \"feature\", it is important to find meaningful (and unique) names for your own modules (don't forget to delete the fake ``matplotlib`` module after trying that out!)."
   ]
  },
  {
   "cell_type": "markdown",
   "metadata": {},
   "source": [
    "*Note: the \"naming trick\" above does not work with modules of the standard library, because built-in modules are imported as part of the interpreter's startup process.*"
   ]
  },
  {
   "cell_type": "markdown",
   "metadata": {},
   "source": [
    "## Reimporting modules "
   ]
  },
  {
   "cell_type": "markdown",
   "metadata": {},
   "source": [
    "Of course, there is a lot more behind an `import` statement than this short summary (see the [documentation](https://docs.python.org/3/reference/simple_stmts.html#import) for a more comprehensive overview). What you should remember however is that an import statement is not computationally cheap: it has to look for a file, (maybe) compile it to bytecode, add it to a registry... Actually, for all what it does, it is very fast already! \n",
    "\n",
    "Since `import` statements are used all the time in Python, it is a good idea to optimize them: therefore, Python will not re-import a module that is imported already. \n",
    "\n",
    "Most of the time this is not a problem, but sometimes (mostly in interactive development) it might be useful to make changes to a module and having them available at the command line without having to restart a fresh Python interpreter each time. To do this, there are two mechanisms available to you:"
   ]
  },
  {
   "cell_type": "markdown",
   "metadata": {},
   "source": [
    "1. Using Python's [importlib.reload()](https://docs.python.org/3/library/importlib.html#importlib.reload) function:"
   ]
  },
  {
   "cell_type": "code",
   "execution_count": 16,
   "metadata": {},
   "outputs": [
    {
     "data": {
      "text/plain": [
       "<module 'greetings' from '/home/mowglie/disk/Dropbox/HomeDocs/git/scientific_programming/notebooks/greetings.py'>"
      ]
     },
     "execution_count": 16,
     "metadata": {},
     "output_type": "execute_result"
    }
   ],
   "source": [
    "import importlib\n",
    "importlib.reload(greetings)"
   ]
  },
  {
   "cell_type": "markdown",
   "metadata": {},
   "source": [
    "This can reimport a module which has been imported before (i.e. it won't do the search for it again). But this has to be done *each time* you change a module, making it quite cumbersome in interactive mode. Here again, ipython comes with a more flexible solution:"
   ]
  },
  {
   "cell_type": "markdown",
   "metadata": {},
   "source": [
    "2. Using ipython's [autoreload](https://ipython.readthedocs.io/en/stable/config/extensions/autoreload.html) extension:"
   ]
  },
  {
   "cell_type": "code",
   "execution_count": 17,
   "metadata": {},
   "outputs": [],
   "source": [
    "%load_ext autoreload\n",
    "%autoreload 2"
   ]
  },
  {
   "cell_type": "markdown",
   "metadata": {},
   "source": [
    "From now on, `autoreload` will make sure that all modules are reloaded automatically before entering the execution of code typed at the IPython prompt."
   ]
  },
  {
   "cell_type": "markdown",
   "metadata": {},
   "source": [
    "## Executing modules as scripts "
   ]
  },
  {
   "cell_type": "markdown",
   "metadata": {},
   "source": [
    "You've already learned that importing modules actually *runs* them, the same way as `$ python mymodule.py` (from the linux terminal) or `%run mymodule.py` (in ipython) would. This can have some undesired consequences: what if, for example, you would like certain things to happen when the module is run as script but *not* when being imported?\n",
    "\n",
    "There is a mechanism that allows to do exactly this. Add the following block of code at the end of the `greetings.py` module:\n",
    "\n",
    "```python\n",
    "if __name__ == '__main__':\n",
    "    # execute only if run as a script\n",
    "    import sys\n",
    "    nargs = len(sys.argv)\n",
    "    if nargs == 3:\n",
    "        say_hi(sys.argv[1], lang=sys.argv[2])\n",
    "    else:\n",
    "        print('Syntax:')\n",
    "        print('%run greetings.py name language')\n",
    "        print('Languages available: {}'.format(list(base)))\n",
    "    \n",
    "```"
   ]
  },
  {
   "cell_type": "markdown",
   "metadata": {},
   "source": [
    "Now you can execute your script like this:"
   ]
  },
  {
   "cell_type": "code",
   "execution_count": 18,
   "metadata": {},
   "outputs": [
    {
     "name": "stdout",
     "output_type": "stream",
     "text": [
      "Salut Fabi!\n"
     ]
    }
   ],
   "source": [
    "%run greetings.py Fabi fr"
   ]
  },
  {
   "cell_type": "markdown",
   "metadata": {},
   "source": [
    "But importing it will produce no output:"
   ]
  },
  {
   "cell_type": "code",
   "execution_count": 19,
   "metadata": {},
   "outputs": [],
   "source": [
    "import greetings"
   ]
  },
  {
   "cell_type": "markdown",
   "metadata": {},
   "source": [
    "How does this work exactly? The important bit is the `if __name__ == '__main__':` line. `__name__` (and all other attributes starting and ending with two underscores) is \"reserved\" by the language. They are no different than other variables, but you should not erase or replace them (for now), since they contain useful information and might be used by other tools. For example:"
   ]
  },
  {
   "cell_type": "code",
   "execution_count": 20,
   "metadata": {},
   "outputs": [
    {
     "data": {
      "text/plain": [
       "'A module to say hi in several langages.'"
      ]
     },
     "execution_count": 20,
     "metadata": {},
     "output_type": "execute_result"
    }
   ],
   "source": [
    "greetings.__doc__  # the documentation of the module as string"
   ]
  },
  {
   "cell_type": "code",
   "execution_count": 21,
   "metadata": {},
   "outputs": [
    {
     "data": {
      "text/plain": [
       "'greetings'"
      ]
     },
     "execution_count": 21,
     "metadata": {},
     "output_type": "execute_result"
    }
   ],
   "source": [
    "greetings.__name__  # the name of the module as string"
   ]
  },
  {
   "cell_type": "markdown",
   "metadata": {},
   "source": [
    "Now, back to our script: the statement `if __name__ == '__main__'` is going to be false when the module is imported (since the name is `greetings`), but obviously true when the module is run as script. Indeed, `__name__` is set to `__main__` when executed."
   ]
  },
  {
   "cell_type": "markdown",
   "metadata": {},
   "source": [
    "## Take home points"
   ]
  },
  {
   "cell_type": "markdown",
   "metadata": {},
   "source": [
    "- variables are defined in a **scope**, and we learned about two scopes: **local** and **global**. There are precise rules as to how each scope can interact with the other. As a general rule: global variables are available in nested scopes and cannot be overwritten (or can they?), and local variables are not available in the global scope.\n",
    "- the import mechanism is useful to avoid **namespace pollution**. Modules come with their own namespace, and it is recommended to keep each module's namespace clean (i.e. no ``from XYZ import *``)\n",
    "- python borrowed the ``PATH`` mechanism from linux and uses a similar logic to look for modules and packages. Installing a new module is therefore super easy: just put a ``mymodule.py`` at the right place. (and don't mess with the existing modules!)\n",
    "- the `%autoreload` command from ipython allows to dynamically change a module while using it at the command line\n",
    "- when writing scripts, always put the code that needs to be executed in an `if __name__ == '__main__'` block: that way, your script can still be imported for the functions it proposes"
   ]
  },
  {
   "cell_type": "markdown",
   "metadata": {},
   "source": [
    "## What's next? "
   ]
  },
  {
   "cell_type": "markdown",
   "metadata": {},
   "source": [
    "Back to the [table of contents](00-Introduction.ipynb#ctoc), or [jump to the next chapter](08-Tips-and-Tricks.ipynb)."
   ]
  },
  {
   "cell_type": "markdown",
   "metadata": {},
   "source": [
    "## License "
   ]
  },
  {
   "cell_type": "markdown",
   "metadata": {},
   "source": [
    "<a href=\"https://creativecommons.org/licenses/by/4.0/\" target=\"_blank\">\n",
    "  <img align=\"left\" src=\"https://mirrors.creativecommons.org/presskit/buttons/88x31/svg/by.svg\"/>\n",
    "</a>"
   ]
  }
 ],
 "metadata": {
  "hide_input": false,
  "kernelspec": {
   "display_name": "Python 3",
   "language": "python",
   "name": "python3"
  },
  "language_info": {
   "codemirror_mode": {
    "name": "ipython",
    "version": 3
   },
   "file_extension": ".py",
   "mimetype": "text/x-python",
   "name": "python",
   "nbconvert_exporter": "python",
   "pygments_lexer": "ipython3",
   "version": "3.5.2"
  },
  "latex_envs": {
   "LaTeX_envs_menu_present": true,
   "autoclose": false,
   "autocomplete": true,
   "bibliofile": "biblio.bib",
   "cite_by": "apalike",
   "current_citInitial": 1,
   "eqLabelWithNumbers": true,
   "eqNumInitial": 1,
   "hotkeys": {
    "equation": "Ctrl-E",
    "itemize": "Ctrl-I"
   },
   "labels_anchors": false,
   "latex_user_defs": false,
   "report_style_numbering": false,
   "user_envs_cfg": false
  },
  "nbTranslate": {
   "displayLangs": [
    "*"
   ],
   "hotkey": "alt-t",
   "langInMainMenu": true,
   "sourceLang": "en",
   "targetLang": "fr",
   "useGoogleTranslate": true
  },
  "toc": {
   "base_numbering": "7",
   "nav_menu": {},
   "number_sections": true,
   "sideBar": true,
   "skip_h1_title": false,
   "title_cell": "Table of Contents",
   "title_sidebar": "Contents",
   "toc_cell": true,
   "toc_position": {
    "height": "750px",
    "left": "725px",
    "top": "111.133px",
    "width": "384px"
   },
   "toc_section_display": true,
   "toc_window_display": true
  }
 },
 "nbformat": 4,
 "nbformat_minor": 2
}
