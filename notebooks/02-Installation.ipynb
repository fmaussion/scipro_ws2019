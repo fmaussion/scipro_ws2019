{
 "cells": [
  {
   "cell_type": "markdown",
   "metadata": {},
   "source": [
    "# Installing Python"
   ]
  },
  {
   "cell_type": "markdown",
   "metadata": {},
   "source": [
    "<img src=\"https://www.python.org/static/community_logos/python-logo.png\" align=\"left\"> This chapter contains some instructions about how to install Python on your university account (mandatory exercise for the UIBK students) and some advice on how to install it on your personal computer. Python is free, so download it and try it at home!  "
   ]
  },
  {
   "cell_type": "markdown",
   "metadata": {
    "toc": true
   },
   "source": [
    "<h1>Table of Contents<span class=\"tocSkip\"></span></h1>\n",
    "<div class=\"toc\"><ul class=\"toc-item\"><li><span><a href=\"#Installing-Python\" data-toc-modified-id=\"Installing-Python-2\"><span class=\"toc-item-num\">2&nbsp;&nbsp;</span>Installing Python</a></span><ul class=\"toc-item\"><li><span><a href=\"#Which-Python-version?\" data-toc-modified-id=\"Which-Python-version?-2.1\"><span class=\"toc-item-num\">2.1&nbsp;&nbsp;</span>Which Python version?</a></span><ul class=\"toc-item\"><li><span><a href=\"#Short-answer\" data-toc-modified-id=\"Short-answer-2.1.1\"><span class=\"toc-item-num\">2.1.1&nbsp;&nbsp;</span>Short answer</a></span></li><li><span><a href=\"#Long-answer\" data-toc-modified-id=\"Long-answer-2.1.2\"><span class=\"toc-item-num\">2.1.2&nbsp;&nbsp;</span>Long answer</a></span></li></ul></li><li><span><a href=\"#Installation-at-the-University-of-Innsbruck\" data-toc-modified-id=\"Installation-at-the-University-of-Innsbruck-2.2\"><span class=\"toc-item-num\">2.2&nbsp;&nbsp;</span>Installation at the University of Innsbruck</a></span><ul class=\"toc-item\"><li><span><a href=\"#The-default--python-on-linux-systems\" data-toc-modified-id=\"The-default--python-on-linux-systems-2.2.1\"><span class=\"toc-item-num\">2.2.1&nbsp;&nbsp;</span>The default  python on linux systems</a></span></li><li><span><a href=\"#Using-a-custom-(pre-installed)-python\" data-toc-modified-id=\"Using-a-custom-(pre-installed)-python-2.2.2\"><span class=\"toc-item-num\">2.2.2&nbsp;&nbsp;</span>Using a custom (pre-installed) python</a></span></li><li><span><a href=\"#Making-this-change-&quot;permanent&quot;\" data-toc-modified-id=\"Making-this-change-&quot;permanent&quot;-2.2.3\"><span class=\"toc-item-num\">2.2.3&nbsp;&nbsp;</span>Making this change \"permanent\"</a></span></li></ul></li><li><span><a href=\"#Installing-Python-on-your-PC\" data-toc-modified-id=\"Installing-Python-on-your-PC-2.3\"><span class=\"toc-item-num\">2.3&nbsp;&nbsp;</span>Installing Python on your PC</a></span><ul class=\"toc-item\"><li><span><a href=\"#Install-Miniconda\" data-toc-modified-id=\"Install-Miniconda-2.3.1\"><span class=\"toc-item-num\">2.3.1&nbsp;&nbsp;</span>Install Miniconda</a></span></li><li><span><a href=\"#Optional:-make-a-new-environment-called-&quot;py3&quot;\" data-toc-modified-id=\"Optional:-make-a-new-environment-called-&quot;py3&quot;-2.3.2\"><span class=\"toc-item-num\">2.3.2&nbsp;&nbsp;</span>Optional: make a new environment called \"py3\"</a></span></li><li><span><a href=\"#Install-the-packages\" data-toc-modified-id=\"Install-the-packages-2.3.3\"><span class=\"toc-item-num\">2.3.3&nbsp;&nbsp;</span>Install the packages</a></span></li><li><span><a href=\"#Optional:-update-the-packages\" data-toc-modified-id=\"Optional:-update-the-packages-2.3.4\"><span class=\"toc-item-num\">2.3.4&nbsp;&nbsp;</span>Optional: update the packages</a></span></li><li><span><a href=\"#Troubleshooting-package-installation\" data-toc-modified-id=\"Troubleshooting-package-installation-2.3.5\"><span class=\"toc-item-num\">2.3.5&nbsp;&nbsp;</span>Troubleshooting package installation</a></span></li></ul></li><li><span><a href=\"#Take-home-points\" data-toc-modified-id=\"Take-home-points-2.4\"><span class=\"toc-item-num\">2.4&nbsp;&nbsp;</span>Take home points</a></span></li><li><span><a href=\"#What's-next?\" data-toc-modified-id=\"What's-next?-2.5\"><span class=\"toc-item-num\">2.5&nbsp;&nbsp;</span>What's next?</a></span></li><li><span><a href=\"#License\" data-toc-modified-id=\"License-2.6\"><span class=\"toc-item-num\">2.6&nbsp;&nbsp;</span>License</a></span></li></ul></li></ul></div>"
   ]
  },
  {
   "cell_type": "markdown",
   "metadata": {},
   "source": [
    "## Which Python version?"
   ]
  },
  {
   "cell_type": "markdown",
   "metadata": {},
   "source": [
    "### Short answer "
   ]
  },
  {
   "cell_type": "markdown",
   "metadata": {},
   "source": [
    "As of today (Oct 2, 2019), the latest stable major release of Python is [Python version 3.7](https://docs.python.org/3/). Python versions 3.6 and 3.7 are still actively maintained, Python 3.8 will soon be released. "
   ]
  },
  {
   "cell_type": "markdown",
   "metadata": {},
   "source": [
    "### Long answer"
   ]
  },
  {
   "cell_type": "markdown",
   "metadata": {},
   "source": [
    "If you did some online search about Python, you probably stumbled upon some discussion about the \"Py2 vs Py3 problem\". About 10 years ago, an evolution of the python language introduced changes which were not **backwards compatible**. This means that code written in Python 2.7 may not work in Python 3. According to the Python developers this change was necessary to get rid of old baggage and inconsistent syntax, but it was also considered by many as a \"treason\". Indeed, backwards compatibility is an important aspect of software development for large projects like python: it is a contract between developers and users stipulating that the code that users write will continue to work in subsequent releases. This contract was broken once, but this shouldn't happen again. \n",
    "\n",
    "Since updating code requires time and money, many people and companies continued to use Python 2 internally. Five years ago, I would maybe have been reluctant to teach you Python 3 because the future of the language was uncertain and many tools existed only in Python 2. Today the wide adoption of Python 3 is finally accomplished and the future is looking very good. All major scientific python tools are supporting Python 3, and major libraries [announced that they will stop to support Python 2](http://python3statement.org/) before of shortly after the end-of-life date of Python 2 (by 2020).\n",
    "\n",
    "In this lecture we *might* talk about the differences between Python 2 and Python 3 at some point, but it's unlikely. **You can safely concentrate on learning Python 3 only**."
   ]
  },
  {
   "cell_type": "markdown",
   "metadata": {},
   "source": [
    "<a id='install_uibk'></a>\n",
    "## Installation at the University of Innsbruck"
   ]
  },
  {
   "cell_type": "markdown",
   "metadata": {},
   "source": [
    "In this section we use the powerful linux PATH variable to \"install\" the same Python program in your personal Linux account. This is done in a couple of easy steps."
   ]
  },
  {
   "cell_type": "markdown",
   "metadata": {},
   "source": [
    "### The default  python on linux systems"
   ]
  },
  {
   "cell_type": "markdown",
   "metadata": {},
   "source": [
    "Open a terminal and type:\n",
    "\n",
    "```\n",
    "$ python\n",
    "```\n",
    "\n",
    "This should have started the python command line, looking like this:\n",
    "\n",
    "```\n",
    "Python 2.7.12 (default, Dec  4 2017, 14:50:18) \n",
    "[GCC 5.4.0 20160609] on linux2\n",
    "Type \"help\", \"copyright\", \"credits\" or \"license\" for more information.\n",
    ">>> \n",
    "```\n",
    "\n",
    "The ```>>>``` is a **prompt**, waiting for you to type python commands. Type ``[CTRL+D]`` to exit.\n",
    "\n",
    "Python is available per default on virtually *any* linux system, for the simple reason that many programs actually *use* python internally. However, as you can see, it runs python version 2. We can also run python 3 with a simple:\n",
    "\n",
    "```\n",
    "$ python3\n",
    "```\n",
    "\n",
    "Now, shouldn't this python program be enough? For simple usages like today's examples, yes it would suffice. But as we are going to see, python alone isn't really useful for us scientists: we need so-called **third party packages**, tools developed with and for python, but not available per default. While some of them are so important that they are available as linux packages, it is much easier (and safer) to use our own python installation for installing those. This is the primary purpose of a personalized python installation."
   ]
  },
  {
   "cell_type": "markdown",
   "metadata": {},
   "source": [
    "### Using a custom (pre-installed) python "
   ]
  },
  {
   "cell_type": "markdown",
   "metadata": {},
   "source": [
    "It turns out I have \"installed\" a more recent python version (and some additional packages) on a shared repository available to everyone with a UIBK account. I wrote \"installed\" with quotation marks because, in linux, the definition of \"installed\" is subjective. Let's say that I've put the python executables somewhere where everybody can see them. Let's try it:\n",
    "\n",
    "```\n",
    "$ /project/c7071047/miniconda3/bin/python\n",
    "Python 3.7.3 | packaged by conda-forge | (default, Jul  1 2019, 21:52:21) \n",
    "[GCC 7.3.0] :: Anaconda, Inc. on linux\n",
    "Type \"help\", \"copyright\", \"credits\" or \"license\" for more information.\n",
    ">>> \n",
    "```\n",
    "\n",
    "You should have been able to launch a new python interpreter: this version is more recent and provided by ``Anaconda, Inc.`` **This is the python I'd like you to use from now on** (when at the University - for your PC see the next section).\n",
    "\n",
    "**Note:** the ``/project`` folder is a shared folder. I don't know where the device is located *physically*, but it definitely isn't in the computer room. This is yet another powerful feature of linux systems: shared folders look just like normal folders. Quite practical, huh? Now this may have one simple drawback: launching this python might be a bit slow sometimes (especially if all of you try to open it at the same time). Most of the time this shouldn't be a big problem, though."
   ]
  },
  {
   "cell_type": "markdown",
   "metadata": {},
   "source": [
    "### Making this change \"permanent\" "
   ]
  },
  {
   "cell_type": "markdown",
   "metadata": {},
   "source": [
    "Nobody wants to write such a long command to start python. So what we are going to do is to add the ``/project/c7071047/miniconda3/bin/`` folder to our ``PATH``, and in such a way that it is remembered for your later sessions.\n",
    "\n",
    "We are going to edit a special file in your ``HOME``, ``~/.bashrc``. This file contains a list of commands which are executed automatically each time you open a terminal. How practical! Let's open this file and add the following two lines at the end of it:\n",
    "\n",
    "```\n",
    "# added for the python course:\n",
    "export PATH=\"/project/c7071047/miniconda3/bin:$PATH\"\n",
    "```\n",
    "\n",
    "<font color=\"red\"><b>CAREFUL! This will add a folder to the PATH variable, which is a fundamental element in linux: make sure that you add these two lines (and exactly these lines: respect the upper- and lower-case as well!) to your .bashrc</b></font> \n",
    "\n",
    "What did we just do? We added a folder to the ``PATH`` (remember what this is?) and added it at the *beginning* of it. This is important because linux is going to look for programs in order: if a ``python`` executable is found in the first folder, no need to look for another one (i.e. ignore the default linux program).\n",
    "\n",
    "**Note:**  for this change to take effect, close your terminal and open a new one! ``~/.bashrc`` is executed only once, at the opening of a new terminal."
   ]
  },
  {
   "cell_type": "markdown",
   "metadata": {},
   "source": [
    "If everything worked fine, after typing ``python`` in the command line you should be given the most recent version I prepared for you."
   ]
  },
  {
   "cell_type": "markdown",
   "metadata": {},
   "source": [
    "<a id='install_pc'></a>\n",
    "## Installing Python on your PC"
   ]
  },
  {
   "cell_type": "markdown",
   "metadata": {},
   "source": [
    "**Note:** if you don't want to install python on your PC or want to do it later, skip this section."
   ]
  },
  {
   "cell_type": "markdown",
   "metadata": {},
   "source": [
    "Unlike Matlab or IDL, Python's scientific track is not installed\n",
    "\"out of the box\" with a single installation file.\n",
    "\n",
    "Fortunately, there are very useful tools out there to help us out.\n",
    "The most useful is [Miniconda](http://conda.pydata.org/miniconda.html),\n",
    "which will help us to install **both** Python **and** the packages we need\n",
    "within a couple of minutes. The first installation step is platform specific (Windows, Linux, or Mac) while the other steps are the \n",
    "same on all platforms."
   ]
  },
  {
   "cell_type": "markdown",
   "metadata": {},
   "source": [
    "### Install Miniconda "
   ]
  },
  {
   "cell_type": "markdown",
   "metadata": {},
   "source": [
    "Got to the miniconda [website](http://conda.pydata.org/miniconda.html) and\n",
    "download the latest **python 3.X** installer for your platform (be careful to\n",
    "check whether you need a 64- or 32-bit version). As of today (Oct 2, 2019), Python versions 3.6 and 3.7 should work fine.\n",
    "\n",
    "The installation is really easy and described\n",
    "[here](https://docs.conda.io/projects/conda/en/latest/user-guide/install/index.html). Choose an \n",
    "installation directory where you have enough space available\n",
    "(conda installations can quickly grow larger than a few GB).\n",
    "\n",
    "To see if everything worked well, close the terminal window you were using and open a new one (on Windows, a\n",
    "terminal is called a [command prompt](http://windows.microsoft.com/en-us/windows-vista/open-a-command-prompt-window>))\n",
    ", and type in:\n",
    "\n",
    "```\n",
    "conda update conda\n",
    "```    \n",
    "\n",
    "If you type:\n",
    "\n",
    "```\n",
    "python\n",
    "```\n",
    "\n",
    "A new python prompt should appear, with something like:\n",
    "\n",
    "```\n",
    "Python X.X.X |Continuum Analytics, Inc.| (default, Oct 19 2015, 21:52:17) \n",
    "xxxx\n",
    "Type \"help\", \"copyright\", \"credits\" or \"license\" for more information.\n",
    ">>>\n",
    "```\n",
    "\n",
    "You can type ``exit()`` or ``[CTRL+D]`` to get out of the python prompt."
   ]
  },
  {
   "cell_type": "markdown",
   "metadata": {},
   "source": [
    "### Optional: make a new environment called \"py3\" "
   ]
  },
  {
   "cell_type": "markdown",
   "metadata": {},
   "source": [
    "Conda also helps us to define so-called \"environments\". A conda environment is\n",
    "a directory that contains a specific collection of packages that you have\n",
    "installed. \n",
    "\n",
    "Environments are not necessary, but helpful on the long term (helpful e.g. if some packages are in conflict with each other). If this is \n",
    "your first installation you probably want to skip this part and go directly\n",
    "to [Install the packages](#packs). Please have a short look at the conda introduction\n",
    "[here](http://conda.pydata.org/docs/intro.html) before going on.\n",
    "\n",
    "In the terminal, type:\n",
    "\n",
    "    conda create -n py3 python=3.7\n",
    "    \n",
    "This created a new environment called \"py3\" which has python V3.6 as\n",
    "default interpreter. This environment can be activated with one command:\n",
    "\n",
    "```\n",
    "source activate py3\n",
    "```\n",
    "\n",
    "or on windows:\n",
    "```\n",
    "activate py3\n",
    "```\n",
    "\n",
    "Note that after activation, the prompt changed to something like\n",
    "``[py3]xxx>``. Once in a specific environment, all the packages we\n",
    "install will be available in this environment only. This is very useful\n",
    "if you need different versions of python for different projects for example.\n",
    "\n",
    "**Don't forget to activate this environment** every time you want to work on\n",
    "the exercises or when you want to install a new package. You can deactivate\n",
    "the current environment with:\n",
    "\n",
    "```\n",
    "source deactivate\n",
    "```\n",
    "\n",
    "or on windows:\n",
    "\n",
    "```\n",
    "deactivate\n",
    "```"
   ]
  },
  {
   "cell_type": "markdown",
   "metadata": {},
   "source": [
    "### Install the packages\n",
    "<a id='packs'></a>"
   ]
  },
  {
   "cell_type": "markdown",
   "metadata": {},
   "source": [
    "First we are going to tell conda where to look for packages to install:\n",
    "\n",
    "```\n",
    "conda config --add channels conda-forge\n",
    "```\n",
    "\n",
    "This has to be done only once. [conda-forge](http://conda-forge.github.io) \n",
    "is a package repository, once you have set it up as default you don't \n",
    "have to worry about it any more.\n",
    "\n",
    "There are a couple of packages that you will always need, whatever you are\n",
    "working on. These are: [ipython](http://ipython.org/),\n",
    "[Jupyter](https://jupyter.org/), [numpy](http://www.numpy.org/),\n",
    "[scipy](https://www.scipy.org/), [matplotlib](http://matplotlib.org).\n",
    "\n",
    "To install them, type:\n",
    "\n",
    "```\n",
    "conda install numpy scipy matplotlib ipython jupyter\n",
    "```\n",
    "\n",
    "This will download the packages and install them, as well as their\n",
    "dependencies. This can take a while! If successful, you should now be able to\n",
    "start ``ipython`` for example:\n",
    "\n",
    "```\n",
    "ipython\n",
    "```\n",
    "\n",
    "Use ``[CTRL+D]`` to close the interpreter and get back to the prompt.\n",
    "\n",
    "We will need some other packages later on, but this will get you started."
   ]
  },
  {
   "cell_type": "markdown",
   "metadata": {},
   "source": [
    "### Optional: update the packages"
   ]
  },
  {
   "cell_type": "markdown",
   "metadata": {},
   "source": [
    "After a while, it might be useful to update the packages you are using (careful! this is *most of the times* a good idea, but not always\\*).\n",
    "\n",
    "If not already done before, set the conda-forge default channel:\n",
    "\n",
    "```\n",
    "conda config --add channels conda-forge\n",
    "```\n",
    "\n",
    "And then simply update them all:\n",
    "\n",
    "```\n",
    "conda update --all\n",
    "```\n",
    "\n",
    "\\*: *some updates might include changes which change the way functions are called, or -even worse- change your results. This is usually not the case for large, well-known software packages, but it can happen. The best way to ensure consistency are tests - as we are going to learn - and getting information about the package updates.*"
   ]
  },
  {
   "cell_type": "markdown",
   "metadata": {},
   "source": [
    "### Troubleshooting package installation"
   ]
  },
  {
   "cell_type": "markdown",
   "metadata": {},
   "source": [
    "Although conda and  conda-forge have greatly improved the process of installing python packages, some issues remain. The main problems that occur at installation are related to so-called \"external libraries\", written in C or FORTRAN, that some python packages require to run properly. Typical examples of \"problem packages\" in the geosciences are [rasterio](https://rasterio.readthedocs.io) and [geopandas](http://geopandas.org/): both rely on the external libraries [PROJ](https://proj.org/) and [gdal](https://gdal.org/).\n",
    "\n",
    "Most of the time, the installation will work without error, but problems will happen at runtime. One typical problem will be of the kind:\n",
    "\n",
    "```python\n",
    "import rasterio\n",
    "ImportError: lib-blabla.so.66: cannot open shared object file: No such file or directory\n",
    "```\n",
    "It is not easy to solve these issues. One way worth trying is to set `$ conda config --set channel_priority strict` as suggested in the [conda-forge documentation](https://conda-forge.org/docs/user/tipsandtricks.html#how-to-fix-it) and install rasterio again.\n",
    "\n",
    "If this doesn't work, google might be the only solution, together with trying to install an older package version."
   ]
  },
  {
   "cell_type": "markdown",
   "metadata": {},
   "source": [
    "## Take home points"
   ]
  },
  {
   "cell_type": "markdown",
   "metadata": {},
   "source": [
    "- python is available per default on virtually any linux distribution \n",
    "- it is not available per default on windows, but can be installed \n",
    "- the system python is useful for scripting or simple tasks, but for real-world data analysis you probably want to install python (and related packages) on your own. \n",
    "- the best tool to install a custom python is [conda](https://conda.io/docs/), installed via [miniconda](https://conda.io/miniconda.html)\n",
    "- on linux, a python \"installation\" is simply a link to a new python executable"
   ]
  },
  {
   "cell_type": "markdown",
   "metadata": {},
   "source": [
    "## What's next?"
   ]
  },
  {
   "cell_type": "markdown",
   "metadata": {},
   "source": [
    "Back to the [table of contents](00-Introduction.ipynb#ctoc), or [jump to the next chapter](03-Getting-Started.ipynb)."
   ]
  },
  {
   "cell_type": "markdown",
   "metadata": {},
   "source": [
    "## License"
   ]
  },
  {
   "cell_type": "markdown",
   "metadata": {},
   "source": [
    "<a href=\"https://creativecommons.org/licenses/by/4.0/\" target=\"_blank\">\n",
    "  <img align=\"left\" src=\"https://mirrors.creativecommons.org/presskit/buttons/88x31/svg/by.svg\"/>\n",
    "</a>"
   ]
  }
 ],
 "metadata": {
  "hide_input": false,
  "kernelspec": {
   "display_name": "Python 3",
   "language": "python",
   "name": "python3"
  },
  "language_info": {
   "codemirror_mode": {
    "name": "ipython",
    "version": 3
   },
   "file_extension": ".py",
   "mimetype": "text/x-python",
   "name": "python",
   "nbconvert_exporter": "python",
   "pygments_lexer": "ipython3",
   "version": "3.5.2"
  },
  "latex_envs": {
   "LaTeX_envs_menu_present": true,
   "autoclose": false,
   "autocomplete": true,
   "bibliofile": "biblio.bib",
   "cite_by": "apalike",
   "current_citInitial": 1,
   "eqLabelWithNumbers": true,
   "eqNumInitial": 1,
   "hotkeys": {
    "equation": "Ctrl-E",
    "itemize": "Ctrl-I"
   },
   "labels_anchors": false,
   "latex_user_defs": false,
   "report_style_numbering": false,
   "user_envs_cfg": false
  },
  "nbTranslate": {
   "displayLangs": [
    "*"
   ],
   "hotkey": "alt-t",
   "langInMainMenu": true,
   "sourceLang": "en",
   "targetLang": "fr",
   "useGoogleTranslate": true
  },
  "toc": {
   "base_numbering": 2,
   "nav_menu": {},
   "number_sections": true,
   "sideBar": true,
   "skip_h1_title": false,
   "title_cell": "Table of Contents",
   "title_sidebar": "Contents",
   "toc_cell": true,
   "toc_position": {},
   "toc_section_display": "block",
   "toc_window_display": true
  }
 },
 "nbformat": 4,
 "nbformat_minor": 2
}
