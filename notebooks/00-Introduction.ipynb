{
 "cells": [
  {
   "cell_type": "markdown",
   "metadata": {},
   "source": [
    "# Scientific Programming"
   ]
  },
  {
   "cell_type": "markdown",
   "metadata": {},
   "source": [
    "**Fabien Maussion**"
   ]
  },
  {
   "cell_type": "markdown",
   "metadata": {},
   "source": [
    "Lecture notes of the master lecture [707716 - Scientific Programming](https://orawww.uibk.ac.at/public/lfuonline_lv.details?sem_id_in=18S&lvnr_id_in=707716), given for the first time in the summer term of 2018 and regularly in the **winter terms** afterwards.\n",
    "\n",
    "If you're not here for the first time, jump to:\n",
    "- [the table of contents](#ctoc)\n",
    "- [external resources](#refs)"
   ]
  },
  {
   "cell_type": "markdown",
   "metadata": {},
   "source": [
    "## Preface"
   ]
  },
  {
   "cell_type": "markdown",
   "metadata": {},
   "source": [
    "There are plenty of excellent online resources to learn python (see [references](#refs) below). So why writing these lecture notes? Well, for one, because none of the tutorials is organized to fit *exactly* the 15 week semester of Austrian universities. Therefore, I had to make some choices regarding (i) what to teach and (ii) how to teach it. However, there is no need in reinventing the wheel and rewriting what much better teachers wrote before me: as you will see, I will rely heavily on external resources, all openly available. Following the open source philosophy, these lecture notes are also freely available.\n",
    "\n",
    "These notes are actualized on the go, as this course advances. I am trying to write them in such a way that they are understandable without actually *attending* the course, but I strongly recommend to participate to both the lectures and the practicals. **Let me know if you encounter any typo / mistake / broken link / incomprehensible or difficult passage**."
   ]
  },
  {
   "cell_type": "markdown",
   "metadata": {},
   "source": [
    "## Learning outcomes of this course"
   ]
  },
  {
   "cell_type": "markdown",
   "metadata": {},
   "source": [
    "This class aims at learning **modern programming techniques** for (geo-)scientists. After finishing the class, attendees should be able to program in a structured, extendable and reproducible manner. They should understand how numbers are handled by computers and be aware of numerical accuracy errors. Furthermore, they will get acquainted with various programming tools (IDEs, debugger, unit testing, object oriented programming, open development practices).\n",
    "\n",
    "The targeted audience for this lecture are (geo-)science **students at the master level with previous experience in programming**. No prior knowledge of python is required, but I'll assume that you are familiar with a similar language (Matlab, IDL, R...). This is *not* an introductory course, although we will shortly revisit programming basics in order to learn the python syntax.\n",
    "\n",
    "The course encompasses the following topics, which are developed by means of concrete examples in the Python programming language:\n",
    "- Introduction to Linux\n",
    "- Semantics: revisiting and formalizing the basic programming structures (loops, functions, conditional blocks...)\n",
    "- General programming concepts, differences between compiled and interpreted languages\n",
    "- Numerics: floating point numbers, N-dimensional arrays\n",
    "- Software structure: packages, modules, functions, scripts\n",
    "- Object oriented programming: fundamentals, usage, and basic design patterns\n",
    "- Code testing\n",
    "- Real world applications!"
   ]
  },
  {
   "cell_type": "markdown",
   "metadata": {},
   "source": [
    "## Frequently Asked  Questions"
   ]
  },
  {
   "cell_type": "markdown",
   "metadata": {},
   "source": [
    "### What is \"Scientific Programming\"?"
   ]
  },
  {
   "cell_type": "markdown",
   "metadata": {},
   "source": [
    "**Scientific programming targets to solve scientific problems with the help of computers**. \n",
    "\n",
    "It is sometimes used as synonym for [computational science](https://en.wikipedia.org/wiki/Computational_science), but in my opinion these are not entirely the same. \"Scientific programming\" is not really a discipline, and therefore cannot be taught.\n",
    "\n",
    "What are we doing here then? Well, we are going to learn **programming** first, and then **programming as a tool to do science**. We are going to apply our new skills to scientific problems, but not only. Within the time given to us, we won't be able to learn *everything* about programming of course. My hope is that at the end of the lecture you'll have sufficient background and tools at your disposition to solve your own problems, and (this is the most important bit) that you'll know *where* to find solutions to the problems you encounter."
   ]
  },
  {
   "cell_type": "markdown",
   "metadata": {},
   "source": [
    "### Why should I learn programming?"
   ]
  },
  {
   "cell_type": "markdown",
   "metadata": {},
   "source": [
    "As a scientist you are going to either *produce* or *analyze* data, most of the time you'll do both. For a long time, scientists have seen programming as a \"tool\", a menial task to accomplish in order to answer the questions they were asking. Nowadays programming has taken a prominent place in a scientist's work, for several reasons:\n",
    "- **the amount of data we have to handle increases together with computational power and our capacity to store it**. I would even argue that the bottleneck in model based scientific discovery isn't the computational effort anymore, but our capacity to comprehend and analyze these huge amounts of data.\n",
    "- **the questions we are asking are getting more complex, and so are the tools we are using to answer them**. The times when scientists could make discoveries with the help of a piece of paper and a pen are long gone, at least for most of us in the geosciences. We rely heavily on computer models, and these models are developed by us scientists, not only by programmers.\n",
    "- **science faces a credibility crisis**, and part of the mistrust towards scientists comes from the fact that their research happens behind closed doors, using closed source tools and based on protected data. Opening our computers and demonstrating that our code can be trusted is necessary to re-engage confidence in our results.\n",
    "- on a more general note: a better understanding of the tools that govern our digital world is a strong asset for many aspects of our everyday life and citizenship.\n",
    "\n",
    "In simple words, we have to become better programmers to be faster and better at what we do: science."
   ]
  },
  {
   "cell_type": "markdown",
   "metadata": {},
   "source": [
    "### Why Python? "
   ]
  },
  {
   "cell_type": "markdown",
   "metadata": {},
   "source": [
    "We will use the [Python programming language](https://www.python.org/) in this course. In case you are wondering why this language and not any other like ``<name your favorite language here>``, let me stop you right away: this course is not about \"learning Python\", it is about learning the general concepts of programming: algorithmic, numerics, program structure, object oriented programming, testing, etc. Python is just the tool I chose to use for this purpose.\n",
    "\n",
    "We could indeed have taken any other language, but there are several advantages in using Python. A quick web search will give you [millions of reasons](https://www.google.co.uk/search?dcr=0&ei=Wo2OWtKHNY7fwAKv1KbIDQ&q=Why+should+I+learn+python), but let me pick some of my favorites here:\n",
    "- **Python is a general purpose programming language and, as such, well suited to learn general programming concepts**. It is therefore better suited than, for example, [R](https://www.r-project.org/) which was developed for statistics and has certain particularities regarding object oriented programming in particular.\n",
    "- **Python can be used for many purposes**, from data preprocessing to numerical modeling and plotting. Unless you have a very compelling reason to change, you are likely to be able to use Python for all programming tasks you'll have in the near future.\n",
    "- **Python is one of the [fastest growing languages for data science](https://stackoverflow.blog/2017/09/06/incredible-growth-python/)**. There is a very active community developing new and exiting packages every day, and joining this community is a good bet on the future.\n",
    "- **Python is free and open-source**. No license fee, the code is available for everyone to see.\n",
    "\n",
    "There are many other reasons to use Python (and some arguments *against* Python as well of course), but I don't think it's relevant to list them here. My argument is following: for a good programmer, switching language is not a very big deal. It's not easy of course, but it's possible - becoming a good programmer is the hard bit, and is a never ending process."
   ]
  },
  {
   "cell_type": "markdown",
   "metadata": {},
   "source": [
    "## Course contents\n",
    "<a id='ctoc'></a>"
   ]
  },
  {
   "cell_type": "markdown",
   "metadata": {
    "lang": "en",
    "slideshow": {
     "slide_type": "slide"
    }
   },
   "source": [
    "- **Week 01: Introduction to Linux, installing Python**\n",
    "    - [01 - A very short introduction to Linux](01-Linux.ipynb)\n",
    "    - [02 - Installing Python](02-Installation.ipynb)\n",
    "    - [03 - Getting started with Python](03-Getting-Started.ipynb)\n",
    "    - [04 - Assignment #01: getting familiar with Linux and Python](04-Assignment-01.ipynb)\n",
    "    - [Slides for week 01](http://fabienmaussion.info/scipro_w01/)\n",
    "- **Week 02: The Python language and the standard library**\n",
    "    - [05 - Language Basics](05-Language-Basics.ipynb)\n",
    "    - [06 - Assignment #02: using the standard library](06-Assignment-02.ipynb)\n",
    "- **Week 03: Variables scopes, modules, good practices in programming**\n",
    "    - [07 - Modules, import mechanism, namespaces, scope(s)](07-Import-Scopes.ipynb)\n",
    "    - [08 - Tips and tricks](08-Tips-and-Tricks.ipynb)\n",
    "    - [09 - Good practices, programming style and conventions](09-Good-practices.ipynb)\n",
    "    - [10 - Assignment #03: deeper in the python library](10-Assignment-03.ipynb)\n",
    "- **Week 04: Floating point arithmetics, Numpy basics**\n",
    "    - [11 - Introduction to numpy: why does numpy exist?](11-Why-Numpy.ipynb)\n",
    "    - [12 - Number representation in computers](12-Numbers.ipynb)\n",
    "    - [13 - Assignment #04: C, python and numpy; rounding errors](13-Assignment-04.ipynb)\n",
    "- **Week 05: Scientific Python**\n",
    "    - [14 - Arrays in numpy: indexing, ufuncs, broadcasting](14-Numpy-ndarrays.ipynb)\n",
    "    - [15 - The scientific python stack](15-Scientific-Python.ipynb)\n",
    "    - [16 - Assignment #05: small numpy exercises](16-Assignment-05.ipynb)\n",
    "- **Week 06: Exceptions and testing**\n",
    "    - [17 - Errors, Exceptions and Warnings](17-Exceptions.ipynb)\n",
    "    - [18 - Testing your code](18-Testing.ipynb)\n",
    "    - [19 - Assignment 06: exceptions and testing](19-Assignment-06.ipynb)\n",
    "- **Week 07: Python Packages and ClimVis project**\n",
    "    - [20 - Structure of a python package](20-Package-structure.ipynb)\n",
    "    - [21 - Project #1: the ClimVis package](21-Project1-ClimVis.ipynb)\n",
    "- **Week 08: Documentation**\n",
    "    - [22 - Documenting your code](22-Documentation.ipynb)\n",
    "- **Week 09: Revisions**\n",
    "- **Week 10: Object Oriented Programming basics**\n",
    "    - [23 - Object Oriented Programming: introduction](23-OOP-Part-1.ipynb)\n",
    "    - [24 - Assignment #07: a file writer class](24-Assignment-07.ipynb)\n",
    "- **Week 11: Object Oriented Programming (Part II & III)**\n",
    "    - [25 - Object Oriented Programming: inheritance](25-OOP-Part-2.ipynb)\n",
    "    - [26 - Object Oriented Programming: why?](26-OOP-Part-3.ipynb)\n",
    "    - [27 - Assignment #08: a Markdown writer](27-Assignment-08.ipynb)\n",
    "- **Week 12: Scientific python - a quick intro to pandas and xarray**\n",
    "    - [28 - The scientific data analysis workflow](28-DataWorkflow.ipynb)\n",
    "    - [Slides for week 12](http://fabienmaussion.info/scipro_scistack)\n",
    "    - [29 - Fun group project: the Pelita game (Part 1)](29-Pelita-1.ipynb)"
   ]
  },
  {
   "cell_type": "markdown",
   "metadata": {},
   "source": [
    " <font color=\"red\">To access the previous course content (winter semester 2018), visit:</font> https://fabienmaussion.info/scipro_ws2018"
   ]
  },
  {
   "cell_type": "markdown",
   "metadata": {},
   "source": [
    "## How to use these notes"
   ]
  },
  {
   "cell_type": "markdown",
   "metadata": {},
   "source": [
    "These notes are written as a companion to the lectures. During class I will go through the major concepts (using slides or the good old blackboard), these notes are here to help you learn at home.\n",
    "\n",
    "The notes are a mix of examples and small exercises. The exercises can happen in between the examples and are marked with a question mark logo. If you want to download the notebooks I used to write the notes, you can download them on the course's [repository](https://github.com/fmaussion/scientific_programming). This repository gets updated frequently, so you might have to re-download the files from time to time.\n",
    "\n",
    "When you will be going through the examples of these notes, some sentences are marked in **bold**: this underlines their importance for the course. When **single words** are bold  this symbolizes new concepts or new definitions: they need to be understood (and *googled* if needed)."
   ]
  },
  {
   "cell_type": "markdown",
   "metadata": {},
   "source": [
    "## Grading "
   ]
  },
  {
   "cell_type": "markdown",
   "metadata": {},
   "source": [
    "The lecture will be graded based on three assessments:\n",
    "- a mid-term group project (the ``climvis`` package): 30%\n",
    "- an end-term group project (the ``pelita`` game): mandatory\n",
    "- an oral examination at the end of the semester: 70%\n",
    "\n",
    "A positive evaluation of each of these elements is mandatory to pass the class!\n",
    "\n",
    "There will be bonus points for pointing me to typos / mistakes / broken links / incomprehensible or difficult passages in these lecture notes."
   ]
  },
  {
   "cell_type": "markdown",
   "metadata": {},
   "source": [
    "Each week there will be an **assignment** (unless specified otherwise, e.g. during the group projects). These assignments can be worked through alone or in groups. Each week, I will ask **one randomly selected group** to present their results to the rest of the class.\n",
    "\n",
    "The class grants you 5 ECTS if successfully passed: [in theory](https://en.wikipedia.org/wiki/European_Credit_Transfer_and_Accumulation_System), this represents 8 to 10 hours work per week (not including holidays). For this course, it means that you will spend about twice as much time doing homework than sitting in class."
   ]
  },
  {
   "cell_type": "markdown",
   "metadata": {},
   "source": [
    "<a id='refs'></a>\n",
    "## External resources "
   ]
  },
  {
   "cell_type": "markdown",
   "metadata": {},
   "source": [
    "Resources used (and linked) in these lecture notes:\n",
    "\n",
    "**Linux and bash scripting:**\n",
    "- [Ryan's Tutorials](https://ryanstutorials.net/) for the linux command line and bash scripting are entertaining and well designed.\n",
    "\n",
    "**Preparation MOOCs:**\n",
    "- [Programming for Everybody (Getting Started with Python)](https://www.edx.org/course/programming-for-everybody-getting-started-with-python) from EdX: if you have no programming experience, this is recommended *before* you take this lecture, this will guide you through the first programming steps. \n",
    "\n",
    "**Python tutorials:**\n",
    "- the [official tutorial](https://docs.python.org/3/tutorial/index.html), always a good place to start.\n",
    "- the [scipy lecture notes](http://scipy-lectures.org), a good overview of the scientific python stack for scientists with previous programming experience.\n",
    "\n",
    "**Python reference:**\n",
    "- the [python documentation](https://docs.python.org) is your best reference for any question related to the language and the standard library.\n",
    "\n",
    "**Testing**\n",
    "- Katy Huff's [scientific python testing tutorial](https://katyhuff.github.io/python-testing/): a one and a half hour introduction to testing practices, from the basics to continuous integration\n",
    "\n",
    "**Floating point precision errors**\n",
    "- Python's [Floating Point Arithmetic](https://docs.python.org/3/tutorial/floatingpoint.html) article is a good read but a bit tough for beginners\n",
    "- [What Every Programmer Should Know About Floating-Point Arithmetic](http://floating-point-gui.de/) is a more gentle introduction, but you still might want to use a search engine for more information.\n",
    "\n",
    "**Numpy**\n",
    "- [Why python is slow](https://jakevdp.github.io/blog/2014/05/09/why-python-is-slow/) by Jake Vanderplas\n",
    "- [From Python to Numpy](http://www.labri.fr/perso/nrougier/from-python-to-numpy/) by Nicolas P. Rougier: an open-access book on numpy vectorization techniques (rather advanced).\n",
    "- [The numpy reference](https://docs.scipy.org/doc/numpy/reference/index.html): the official documentation is always the best place to obtain first hand information.\n",
    "\n",
    "**Scientific Python**\n",
    "- [Python Data Science Handbook](https://jakevdp.github.io/PythonDataScienceHandbook/) by Jake Vanderplas: an open-access  textbook on using Python for Scientists\n",
    "\n",
    "**Python namespaces and scopes**\n",
    "- [blog post by Sebastian Raschka](http://sebastianraschka.com/Articles/2014_python_scope_and_namespaces.html#scope-resolution-for-variable-names-via-the-legb-rule): A Beginner's Guide to Python's Namespaces, Scope Resolution, and the LEGB Rule\n",
    "\n",
    "**Object Oriented Programming**\n",
    "The web is full of blog posts and basic tutorials about OOP in python. Unfortunately, most of them make a poor job at explaining *why* OOP can be useful and when not. I will try to find better resources, but for now I recommend:\n",
    "- [RealPython's beginner tutorial](https://realpython.com/python3-object-oriented-programming/)\n",
    "- [Wikipedia page about OOP](https://en.wikipedia.org/wiki/Object-oriented_programming)\n",
    "- <a href=\"https://en.wikipedia.org/wiki/Inheritance_(object-oriented_programming\">Wikipedia page about inheritance</a>\n",
    "\n",
    "**Documentation**\n",
    "- [A beginner’s guide to writing documentation](http://www.writethedocs.org/guide/writing/beginners-guide-to-docs/)\n",
    "\n",
    "**Some youtube videos about tech in general**\n",
    "- [A fun but though-provoking talk about machine learning and why we should think before we do things](https://www.youtube.com/watch?v=ajGX7odA87k)\n",
    "\n",
    "*(this list will be updated when the notes get written further)*"
   ]
  },
  {
   "cell_type": "markdown",
   "metadata": {},
   "source": [
    "## Getting help"
   ]
  },
  {
   "cell_type": "markdown",
   "metadata": {},
   "source": [
    "Seeking for information online is necessary and helpful at *any* level of programming skills. I would even argue that good programmers are the ones who know how to efficiently find information online.\n",
    "\n",
    "When encountering an issue, the first question you should ask yourself is: *\"am I the only person likely to be affected by this problem?\"*. **The answer will be no** in 99% of the cases. For these, here is a list of recommendations:\n",
    "- [Stack Overflow](https://stackoverflow.com/) is THE place for programming questions. Thanks to community based moderation rules, the good questions are more visible than bad ones, and good answers are rewarded. [Take a tour](https://stackoverflow.com/tour) of the site's principles now, and look for similar questions there before asking your own question.\n",
    "- Learn to ask the right question to your search engine. Naming this the correct way (semantics) is one of the objectives of this lecture, and I hope that in the end you will not only write better code, you will also *speak* the programming language a little better. \n",
    "\n",
    "If every other thing fails (i.e the remaining 1% of the cases), then:\n",
    "- Ask a question on Stack Overflow. Before doing so, read what a [Minimal, Complete, and Verifiable Example](https://stackoverflow.com/help/mcve) is and try to stick to these recommendations.\n",
    "- If you think you discovered a bug, than report it to the library directly. Almost all the scientific python packages are hosted on GitHub: the \"issues\" tab is where to report bugs. Read the excellent [Craft Minimal Bug Reports](http://matthewrocklin.com/blog/work/2018/02/28/minimal-bug-reports) article from Matt Rocklin before doing so."
   ]
  },
  {
   "cell_type": "markdown",
   "metadata": {},
   "source": [
    "## Authors"
   ]
  },
  {
   "cell_type": "markdown",
   "metadata": {},
   "source": [
    "- [Fabien Maussion](http://fabienmaussion.info/) wrote these notes (unless specified otherwise, e.g. for some tutorials)\n",
    "- [Matthias Göbel](https://github.com/Matze77) and [Lilian Schuster](https://github.com/lilianschuster) (student assistants at the time of writing) reviewed and proof read them"
   ]
  },
  {
   "cell_type": "markdown",
   "metadata": {},
   "source": [
    "## License"
   ]
  },
  {
   "cell_type": "markdown",
   "metadata": {},
   "source": [
    "<a href=\"https://creativecommons.org/licenses/by/4.0/\" target=\"_blank\">\n",
    "  <img align=\"left\" src=\"https://mirrors.creativecommons.org/presskit/buttons/88x31/svg/by.svg\"/>\n",
    "</a>\n",
    "\n",
    "<br>\n",
    "<br>\n",
    "        \n",
    "These lecture notes and exercises are licensed under a [Creative Commons Attribution 4.0 International (CC BY 4.0) ](https://creativecommons.org/licenses/by/4.0/)."
   ]
  },
  {
   "cell_type": "markdown",
   "metadata": {},
   "source": [
    "<a href=\"http://acinn.uibk.ac.at/\" target=\"_blank\">\n",
    "  <img align=\"left\" src=\"../img/logo_acinn_small.jpg\"/>\n",
    "</a>"
   ]
  }
 ],
 "metadata": {
  "hide_input": false,
  "kernelspec": {
   "display_name": "Python 3",
   "language": "python",
   "name": "python3"
  },
  "language_info": {
   "codemirror_mode": {
    "name": "ipython",
    "version": 3
   },
   "file_extension": ".py",
   "mimetype": "text/x-python",
   "name": "python",
   "nbconvert_exporter": "python",
   "pygments_lexer": "ipython3",
   "version": "3.5.2"
  },
  "latex_envs": {
   "LaTeX_envs_menu_present": true,
   "autoclose": false,
   "autocomplete": true,
   "bibliofile": "biblio.bib",
   "cite_by": "apalike",
   "current_citInitial": 1,
   "eqLabelWithNumbers": true,
   "eqNumInitial": 1,
   "hotkeys": {
    "equation": "Ctrl-E",
    "itemize": "Ctrl-I"
   },
   "labels_anchors": false,
   "latex_user_defs": false,
   "report_style_numbering": false,
   "user_envs_cfg": false
  },
  "nbTranslate": {
   "displayLangs": [
    "*"
   ],
   "hotkey": "alt-t",
   "langInMainMenu": true,
   "sourceLang": "en",
   "targetLang": "fr",
   "useGoogleTranslate": true
  },
  "toc": {
   "base_numbering": 1,
   "nav_menu": {},
   "number_sections": false,
   "sideBar": true,
   "skip_h1_title": false,
   "title_cell": "Table of Contents",
   "title_sidebar": "Contents",
   "toc_cell": false,
   "toc_position": {},
   "toc_section_display": "block",
   "toc_window_display": true
  }
 },
 "nbformat": 4,
 "nbformat_minor": 2
}
