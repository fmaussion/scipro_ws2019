{
 "cells": [
  {
   "cell_type": "markdown",
   "metadata": {},
   "source": [
    "# A very short introduction to Linux"
   ]
  },
  {
   "cell_type": "markdown",
   "metadata": {},
   "source": [
    "This lecture is about programming, but it would be a big mistake to forget to talk about Linux! Linux (and Mac) are often preferred over Windows by scientists and programmers, for a number of reasons. \n",
    "\n",
    "Here we will give only a short introduction: every student in (geo-)sciences should know about the existence of Linux and know the basics of it. Atmospheric Sciences students in particular will have to use it sooner or later, since most of the tools and data they are using are running or have been created on Linux systems."
   ]
  },
  {
   "cell_type": "markdown",
   "metadata": {
    "toc": true
   },
   "source": [
    "<h1>Table of Contents<span class=\"tocSkip\"></span></h1>\n",
    "<div class=\"toc\"><ul class=\"toc-item\"><li><span><a href=\"#A-very-short-introduction-to-Linux\" data-toc-modified-id=\"A-very-short-introduction-to-Linux-1\"><span class=\"toc-item-num\">1&nbsp;&nbsp;</span>A very short introduction to Linux</a></span><ul class=\"toc-item\"><li><span><a href=\"#What-is-Linux?\" data-toc-modified-id=\"What-is-Linux?-1.1\"><span class=\"toc-item-num\">1.1&nbsp;&nbsp;</span>What is Linux?</a></span></li><li><span><a href=\"#Should-I-use-it?\" data-toc-modified-id=\"Should-I-use-it?-1.2\"><span class=\"toc-item-num\">1.2&nbsp;&nbsp;</span>Should I use it?</a></span></li><li><span><a href=\"#Trying-Linux\" data-toc-modified-id=\"Trying-Linux-1.3\"><span class=\"toc-item-num\">1.3&nbsp;&nbsp;</span>Trying Linux</a></span></li><li><span><a href=\"#Tutorial:-the-linux-command-line\" data-toc-modified-id=\"Tutorial:-the-linux-command-line-1.4\"><span class=\"toc-item-num\">1.4&nbsp;&nbsp;</span>Tutorial: the linux command line</a></span><ul class=\"toc-item\"><li><span><a href=\"#Listing-files-and-directories\" data-toc-modified-id=\"Listing-files-and-directories-1.4.1\"><span class=\"toc-item-num\">1.4.1&nbsp;&nbsp;</span>Listing files and directories</a></span></li><li><span><a href=\"#The-directory-structure\" data-toc-modified-id=\"The-directory-structure-1.4.2\"><span class=\"toc-item-num\">1.4.2&nbsp;&nbsp;</span>The directory structure</a></span></li><li><span><a href=\"#Making-Directories\" data-toc-modified-id=\"Making-Directories-1.4.3\"><span class=\"toc-item-num\">1.4.3&nbsp;&nbsp;</span>Making Directories</a></span></li><li><span><a href=\"#Changing-to-a-different-directory\" data-toc-modified-id=\"Changing-to-a-different-directory-1.4.4\"><span class=\"toc-item-num\">1.4.4&nbsp;&nbsp;</span>Changing to a different directory</a></span></li><li><span><a href=\"#The-directories-.-and-..\" data-toc-modified-id=\"The-directories-.-and-..-1.4.5\"><span class=\"toc-item-num\">1.4.5&nbsp;&nbsp;</span>The directories . and ..</a></span></li><li><span><a href=\"#Copying-files\" data-toc-modified-id=\"Copying-files-1.4.6\"><span class=\"toc-item-num\">1.4.6&nbsp;&nbsp;</span>Copying files</a></span></li><li><span><a href=\"#Using-[TAB]\" data-toc-modified-id=\"Using-[TAB]-1.4.7\"><span class=\"toc-item-num\">1.4.7&nbsp;&nbsp;</span>Using [TAB]</a></span></li><li><span><a href=\"#Moving-files\" data-toc-modified-id=\"Moving-files-1.4.8\"><span class=\"toc-item-num\">1.4.8&nbsp;&nbsp;</span>Moving files</a></span></li><li><span><a href=\"#Removing-files-and-directories\" data-toc-modified-id=\"Removing-files-and-directories-1.4.9\"><span class=\"toc-item-num\">1.4.9&nbsp;&nbsp;</span>Removing files and directories</a></span></li><li><span><a href=\"#Displaying-the-contents-of-a-file-on-the-screen\" data-toc-modified-id=\"Displaying-the-contents-of-a-file-on-the-screen-1.4.10\"><span class=\"toc-item-num\">1.4.10&nbsp;&nbsp;</span>Displaying the contents of a file on the screen</a></span></li><li><span><a href=\"#Searching-the-contents-of-a-file\" data-toc-modified-id=\"Searching-the-contents-of-a-file-1.4.11\"><span class=\"toc-item-num\">1.4.11&nbsp;&nbsp;</span>Searching the contents of a file</a></span></li><li><span><a href=\"#Take-home-points\" data-toc-modified-id=\"Take-home-points-1.4.12\"><span class=\"toc-item-num\">1.4.12&nbsp;&nbsp;</span>Take home points</a></span></li></ul></li><li><span><a href=\"#Executable-scripts\" data-toc-modified-id=\"Executable-scripts-1.5\"><span class=\"toc-item-num\">1.5&nbsp;&nbsp;</span>Executable scripts</a></span><ul class=\"toc-item\"><li><span><a href=\"#A-simple-script\" data-toc-modified-id=\"A-simple-script-1.5.1\"><span class=\"toc-item-num\">1.5.1&nbsp;&nbsp;</span>A simple script</a></span></li><li><span><a href=\"#Make-a-file-executable\" data-toc-modified-id=\"Make-a-file-executable-1.5.2\"><span class=\"toc-item-num\">1.5.2&nbsp;&nbsp;</span>Make a file executable</a></span></li><li><span><a href=\"#Take-home-points\" data-toc-modified-id=\"Take-home-points-1.5.3\"><span class=\"toc-item-num\">1.5.3&nbsp;&nbsp;</span>Take home points</a></span></li></ul></li><li><span><a href=\"#The-linux-PATH\" data-toc-modified-id=\"The-linux-PATH-1.6\"><span class=\"toc-item-num\">1.6&nbsp;&nbsp;</span>The linux PATH</a></span><ul class=\"toc-item\"><li><span><a href=\"#Locate-linux-programs\" data-toc-modified-id=\"Locate-linux-programs-1.6.1\"><span class=\"toc-item-num\">1.6.1&nbsp;&nbsp;</span>Locate linux programs</a></span></li><li><span><a href=\"#The-PATH-variable\" data-toc-modified-id=\"The-PATH-variable-1.6.2\"><span class=\"toc-item-num\">1.6.2&nbsp;&nbsp;</span>The PATH variable</a></span></li><li><span><a href=\"#Take-home-points\" data-toc-modified-id=\"Take-home-points-1.6.3\"><span class=\"toc-item-num\">1.6.3&nbsp;&nbsp;</span>Take home points</a></span></li></ul></li><li><span><a href=\"#What's-next?\" data-toc-modified-id=\"What's-next?-1.7\"><span class=\"toc-item-num\">1.7&nbsp;&nbsp;</span>What's next?</a></span></li><li><span><a href=\"#License\" data-toc-modified-id=\"License-1.8\"><span class=\"toc-item-num\">1.8&nbsp;&nbsp;</span>License</a></span></li></ul></li></ul></div>"
   ]
  },
  {
   "cell_type": "markdown",
   "metadata": {},
   "source": [
    "## What is Linux? "
   ]
  },
  {
   "cell_type": "markdown",
   "metadata": {},
   "source": [
    "The [web](https://www.google.co.uk/search?q=What+is+Linux) is going to give a better answer than me to this question."
   ]
  },
  {
   "cell_type": "markdown",
   "metadata": {},
   "source": [
    "## Should I use it?"
   ]
  },
  {
   "cell_type": "markdown",
   "metadata": {},
   "source": [
    "My very personal answer is a clear: **yes**! I can't force you to it though, and most of the exercises of this lecture can be done on a Windows computer too. If you are running Mac OS X then you have access to a linux terminal anyway and you can ignore my recommendation (even if I don't like Apple for several other reasons - totally subjective opinion). \n",
    "\n",
    "Linux has always been an environment for programmers and has the reputation of being \"geeky\" and \"complicated\". This is less true today, with many Linux distributions becoming mainstream and easy to use (my personal favorite is [Linux Mint](http://linuxmint.com), but you probably mostly heard of [Ubuntu](https://ubuntu.com/download/desktop) which I also recommend).  \n",
    "\n",
    "I believe that Linux is *much* more user-friendly than Windows: once some of the particularities of Linux are understood (which can be frustrating in the beginning since it works *quite* differently than windows), it appears that there is much less \"hidden\" in Linux than in Windows (especially when it comes to installing/deinstalling software, using the command line, or protecting yourself from viruses and intruders). \n",
    "\n",
    "**As a scientist and programmer** there are many reasons to prefer Linux (or Mac OS X) to Windows. Let me list some reasons here:\n",
    "- **Linux comes with many tools for scientists and programmers** (\"batteries included\"). For historical reasons, Linux and its command line tools have been used by scientists and programmers since decades. It is not a surprise then that Linux comes with many (many) useful utilities to make programming and working with data easier.\n",
    "- **Linux is fast and reliable**. Linux is extremely stable and more lightweight than Windows. I've never seen a Linux machine becoming *slower* with time, as I was used to see in my time using Windows (I have to admit: it was more than 10 years ago).\n",
    "- **Linux is the operating system of the huge majority of the super computers and web servers worldwide**. Because of its efficiency, security, and multiple user management tools, Linux has taken over the web: [99.4%](https://en.wikipedia.org/wiki/Linux_adoption#Supercomputers) of the super computers and [67.5%](https://en.wikipedia.org/wiki/Linux_adoption#Servers) of the web servers run Linux, while [79.3%](https://en.wikipedia.org/wiki/Linux_adoption#Mobile_devices) of the mobile devices run Linux via Android.\n",
    "- **Linux is at the heart of the open-source philosophy**. Linux is free and open-source, and it is not surprising that people who embraced the open-source philosophy also prefer Linux to Windows or Mac. \n",
    "\n",
    "There are also some reasons **not** to use Linux of course. For one, Linux can be confusing at first and you'll need some time to get used to it. Also, it doesn't come pre-installed on most computers and you'll have to do it yourself (however, several retailers are already selling cheaper Ubuntu laptops to students). It is possible (but unlikely) that some of your hardware will not be compatible with Linux. Finally, some programs simply aren't available on Linux: Microsoft Office, the Adobe Suite, and games are the most prominent examples. The free and open-source alternatives (LibreOffice and GIMP) are good, but not *as* good as their commercial counterpart. I used Linux exclusively for more than 10 years now, and I never regretted it. Recently I had to install Windows in a virtual machine in order to use the MS Office software provided by the University, and it works perfectly. Another option is to use [wine](https://www.winehq.org/)."
   ]
  },
  {
   "cell_type": "markdown",
   "metadata": {},
   "source": [
    "## Trying Linux"
   ]
  },
  {
   "cell_type": "markdown",
   "metadata": {},
   "source": [
    "Here are a few ways you can use Linux and make an idea by yourself:\n",
    "\n",
    "- **At the University of Innsbruck**: In order to use Linux in the computer room you have to register for an account [here](http://orawww.uibk.ac.at/public_prod/owa/uvw$web$10.p001). After an hour or so you will be able to connect to any computer using your username and password. The Linux distribution used at the university is [CentOS](https://www.centos.org/) (not my favorite, unfortunately). If you are a student of another university, it is likely that you have access to Linux environments, too.\n",
    "- **On your laptop, with a live CD (or USB)**: this is the [best way to try it at no risk](https://tutorials.ubuntu.com/tutorial/try-ubuntu-before-you-install#0) and get a feeling for the general usage of a linux distribution. This is not permanent though.  \n",
    "- **On your laptop, in a virtual machine**: This is a relatively easy and non-destructive way to try Linux. There are tons of tutorials online, [this one](https://helpdeskgeek.com/linux-tips/how-to-install-ubuntu-in-virtualbox/) seems OK.\n",
    "- **On your laptop with Windows 10 Subsystem for Linux**: This is a very recent but very encouraging trend at Windows. They seem to realize that Linux is better at certain things than Windows and therefore allowed to have a better way to use linux on windows than virtual machines. [Here](https://docs.microsoft.com/en-us/windows/wsl/install-win10) is the official documentation (disclaimer: I haven't tried it yet).\n",
    "- **On your laptop, alongside Windows (dual boot)**: this is a bit more engaged, but the best way if you want to use both operating systems at full capacity. See [here](https://help.ubuntu.com/community/WindowsDualBoot) for the official instructions. Be careful however: it is possible that things get a bit complicated going this way: secure your data first, and be prepared for some unexpected events. \n",
    "- **On your laptop, without Windows**: Congratulations, this is the best solution! Please check that your hardware is [compatible](https://certification.ubuntu.com/desktop/) first, and follow the install instructions of your chosen OS. If you want to use Windows afterwards you can still re-install it or install it in a virtual machine. "
   ]
  },
  {
   "cell_type": "markdown",
   "metadata": {},
   "source": [
    "## Tutorial: the linux command line "
   ]
  },
  {
   "cell_type": "markdown",
   "metadata": {},
   "source": [
    "*Copyright notice: this section was largely inspired from the first parts of Michael Stonebank's [UNIX tutorial](http://www.ee.surrey.ac.uk/Teaching/Unix/index.html)* "
   ]
  },
  {
   "cell_type": "markdown",
   "metadata": {},
   "source": [
    "To open a terminal window, click on the \"Terminal\" icon from the ``Applications/System Tools`` menu. You can add an icon to your \"quick launch\" taskbar simply by dragging the icon to it.\n",
    "\n",
    "A terminal window should appear with a ``$`` prompt, waiting for you to start entering commands. The command line has a very important role in linux (as compared to windows where nobody uses it) since many tasks can be done much more efficiently with simple commands."
   ]
  },
  {
   "cell_type": "markdown",
   "metadata": {},
   "source": [
    "### Listing files and directories"
   ]
  },
  {
   "cell_type": "markdown",
   "metadata": {},
   "source": [
    "**ls (list)**\n",
    "\n",
    "When you first login, your current working directory is your home directory. Your home directory has the same name as your username, for example, c7071047, and it is where your personal files and subdirectories are saved.\n",
    "\n",
    "To find out what is in your home directory, type:\n",
    "\n",
    "```\n",
    "$ ls\n",
    "```\n",
    "\n",
    "The ``ls`` command lists the contents of your current working directory.\n",
    "\n",
    "``ls`` does not, in fact, cause all the files in your home directory to be listed, but only those ones whose name does not begin with a dot (.) Files beginning with a dot (.) are known as hidden files and usually contain important program configuration information. They are hidden because you should not change them unless you know what you do.\n",
    "\n",
    "To list all files in your home directory including those whose names begin with a dot, type:\n",
    "\n",
    "```\n",
    "$ ls -a\n",
    "```\n",
    "\n",
    "As you can see, ``ls -a`` lists files that are normally hidden. \n",
    "\n",
    "``ls`` is an example of a command which can take options: ``-a`` is an example of an option. The options change the behaviour of the command. There are online manual pages that tell you which options a particular command can take, and how each option modifies the behaviour of the command. ``ls -lh`` is an other way to call ``ls`` with two options, ``l`` for \"listing format\" and ``h`` for \"human readable\".\n",
    "\n",
    "**Note:** linux file names and commands are *case sensitive*, i.e. ``Test.txt`` is different from ``test.txt``, and both names could coexist in the same directory."
   ]
  },
  {
   "cell_type": "markdown",
   "metadata": {},
   "source": [
    "### The directory structure "
   ]
  },
  {
   "cell_type": "markdown",
   "metadata": {},
   "source": [
    "All the files are grouped together in the directory structure. The file-system is arranged in a hierarchical structure, like an inverted tree. The top of the hierarchy is traditionally called root (written as a slash ``/`` )\n",
    "\n",
    "![image](../img/unix-tree.png)\n",
    "\n",
    "When loging in we are automatically located in our personal ``home`` directory, which is aptly named because:\n",
    "\n",
    "- we won't need to leave ``home`` during our exercises\n",
    "- we are allowed to do whatever we want in our ``home``, while we are not allowed to write, delete or change things in the other directories.\n",
    "\n",
    "To know where we are in the directory structure, there is a useful command:\n",
    "\n",
    "```\n",
    "$ pwd\n",
    "```\n",
    "\n",
    "which prints the path of the current working directory.\n"
   ]
  },
  {
   "cell_type": "markdown",
   "metadata": {},
   "source": [
    "### Making Directories "
   ]
  },
  {
   "cell_type": "markdown",
   "metadata": {},
   "source": [
    "**mkdir (make directory)**\n",
    "\n",
    "We will now make a subdirectory in your home directory to hold the files you will be creating and using in the course of this tutorial. To make a subdirectory called ``unixstuff`` in your current working directory type:\n",
    "\n",
    "```\n",
    "$ mkdir unixstuff \n",
    "```\n",
    "\n",
    "To see the directory you have just created, type:\n",
    "\n",
    "```\n",
    "$ ls\n",
    "```"
   ]
  },
  {
   "cell_type": "markdown",
   "metadata": {},
   "source": [
    "### Changing to a different directory"
   ]
  },
  {
   "cell_type": "markdown",
   "metadata": {},
   "source": [
    "**cd (change directory)**\n",
    "\n",
    "The command ``cd directory`` means change the current working directory to \"directory\". The current working directory may be thought of as the directory you are in, i.e. your current position in the file-system tree.\n",
    "\n",
    "To change to the directory you have just made, type:\n",
    "\n",
    "```\n",
    "$ cd unixstuff\n",
    "```\n",
    "\n",
    "Type ``ls`` to see the contents (which should be empty)\n",
    "\n",
    "<img src=\"../img/logo_ex.png\" align=\"left\" style=\"width:1em; height:1em;\"> **Exercise**: make a directory called ``backup`` in the ``unixstuff`` directory"
   ]
  },
  {
   "cell_type": "markdown",
   "metadata": {},
   "source": [
    "### The directories . and .."
   ]
  },
  {
   "cell_type": "markdown",
   "metadata": {},
   "source": [
    "Still in the ``unixstuff`` directory, type:\n",
    "\n",
    "```\n",
    "$ ls -a\n",
    "```\n",
    "\n",
    "As you can see, in the unixstuff directory (and in all other directories), there are two special directories called (.) and (..)\n",
    "\n",
    "**The current directory (.)**\n",
    "\n",
    "In linux, (.) means the current directory, so typing:\n",
    "\n",
    "```\n",
    "$ cd .\n",
    "```\n",
    "\n",
    "means \"stay where you are\" (the unixstuff directory).\n",
    "\n",
    "This may not seem very useful at first, but using (.) as the name of the current directory will save a lot of typing, as we shall see.\n",
    "\n",
    "**The parent directory (..)**\n",
    "\n",
    "(..) means the parent of the current directory, so typing:\n",
    "\n",
    "```\n",
    "$ cd ..\n",
    "```\n",
    "\n",
    "will take you one directory up the hierarchy (back to your home directory). Try it now.\n",
    "\n",
    "**Note**: typing cd with no argument always returns you to your home directory. This is very useful if you are lost in the file system.\n",
    "\n",
    "**~ (your home directory)**\n",
    "\n",
    "Home directories can also be referred to by the tilde ``~`` character. It can be used to specify paths starting at your home directory. So typing:\n",
    "\n",
    "```\n",
    "  $ ls ~/unixstuff\n",
    "```\n",
    "\n",
    "will list the contents of your unixstuff directory, no matter where you currently are in the file system."
   ]
  },
  {
   "cell_type": "markdown",
   "metadata": {},
   "source": [
    "### Copying files"
   ]
  },
  {
   "cell_type": "markdown",
   "metadata": {},
   "source": [
    "**cp (copy)**\n",
    "\n",
    "``cp file1 file2`` is the command which makes a copy of ``file1`` in the current working directory and calls it ``file2``\n",
    "\n",
    "What we are going to do now, is to take a file stored in an open access area of the file system, and use the ``cp`` command to copy it to your unixstuff directory.\n",
    "\n",
    "First, ``cd`` to your unixstuff directory:\n",
    "\n",
    "```\n",
    "$ cd ~/unixstuff\n",
    "```\n",
    "\n",
    "Then type:\n",
    "\n",
    "```\n",
    "$ cp /scratch/c707/c7071047/tuto/science.txt .\n",
    "```\n",
    "\n",
    "**Note**: Don't forget the dot . at the end. Remember, in linux, the dot means the current directory.\n",
    "\n",
    "The above command means \"copy the file science.txt to the current directory, keeping the name the same\".\n",
    "\n",
    "**Note**: The directory ``/scratch/c707/c7071047/tuto`` is an area to which everyone in the University has read and copy access. If you are from outside the University, you can grab a copy of the file from the internet. For this, you can use another very useful command, ``wget``:\n",
    "\n",
    "```\n",
    "$ wget http://www.ee.surrey.ac.uk/Teaching/Unix/science.txt\n",
    "```\n",
    "\n",
    "This will download the file ``science.txt`` to your current directory\n",
    "\n",
    "<img src=\"../img/logo_ex.png\" align=\"left\" style=\"width:1em; height:1em;\"> **Exercise**: Create a backup of your ``science.txt`` file by copying it to a file called ``science.bak``\n",
    "\n",
    "\n",
    "**Note:**  directories can also be copied with the ``-r`` option added to ``cp``."
   ]
  },
  {
   "cell_type": "markdown",
   "metadata": {},
   "source": [
    "### Using [TAB]"
   ]
  },
  {
   "cell_type": "markdown",
   "metadata": {},
   "source": [
    "``[TAB]`` is very useful in the Linux (and other) command line: it uses an automated completion algorithm to complete the commands you are typing. For example, try to type ``$ cd ~/uni`` and then ``TAB``. This is also going to make suggestions in case of multiple choices, or for commands."
   ]
  },
  {
   "cell_type": "markdown",
   "metadata": {},
   "source": [
    "### Moving files "
   ]
  },
  {
   "cell_type": "markdown",
   "metadata": {},
   "source": [
    "**mv (move)**\n",
    "\n",
    "``mv file1 file2`` moves (or renames) ``file1`` to ``file2``\n",
    "\n",
    "To move a file from one place to another, use the ``mv`` command. This has the effect of moving rather than copying the file, so you end up with only one file rather than two.\n",
    "\n",
    "It can also be used to rename a file, by moving the file to the same directory, but giving it a different name.\n",
    "\n",
    "We are now going to move the file ``science.bak`` to your ``backup`` directory.\n",
    "\n",
    "First, change directories to your ``unixstuff`` directory. Then type:\n",
    "\n",
    "```\n",
    "$ mv science.bak backup/\n",
    "```\n",
    "\n",
    "Type ``ls`` and ``ls backup`` to see if it has worked."
   ]
  },
  {
   "cell_type": "markdown",
   "metadata": {},
   "source": [
    "### Removing files and directories "
   ]
  },
  {
   "cell_type": "markdown",
   "metadata": {},
   "source": [
    "**rm (remove), rmdir (remove directory)**\n",
    "\n",
    "To delete (remove) a file, use the ``rm`` command. As an example, we are going to create a copy of the ``science.txt`` file and then delete it.\n",
    "\n",
    "Inside your ``unixstuff`` directory, type:\n",
    "\n",
    "```\n",
    "$ cp science.txt tempfile.txt \n",
    "$ ls\n",
    "$ rm tempfile.txt\n",
    "$ ls\n",
    "```\n",
    "\n",
    "You can use the ``rmdir`` command to remove a directory (make sure it is empty first). Try to remove the ``backup`` directory. You will not be able to since linux will not let you remove a non-empty directory. To delete a non-empty directory with all its subdirectories you can use the option ``-r`` (r for recursive):\n",
    "\n",
    "```\n",
    "$ rm -r /path/to/some/directory\n",
    "```\n",
    "\n",
    "This command will then ask you confirmation for certain files judged important. If you are very sure of what you do, you can add a ``-f`` to the command (f for force):\n",
    "\n",
    "```\n",
    "$ rm -rf /path/to/some/directory/that/i/am/very/sure/to/delete\n",
    "```\n",
    "\n",
    "**Note:** directories deleted with ``rm`` are lost *forever*. They don't go to the trash, they are just deleted."
   ]
  },
  {
   "cell_type": "markdown",
   "metadata": {},
   "source": [
    "### Displaying the contents of a file on the screen"
   ]
  },
  {
   "cell_type": "markdown",
   "metadata": {},
   "source": [
    "**clear (clear screen)**\n",
    "\n",
    "Before you start the next section, you may like to clear the terminal window of the previous commands so the output of the following commands can be clearly understood.\n",
    "\n",
    "At the prompt, type:\n",
    "\n",
    "```\n",
    "$ clear\n",
    "```\n",
    "\n",
    "This will clear all text and leave you with the ``$`` prompt at the top of the window.\n",
    "\n",
    " \n",
    "**cat (concatenate)**\n",
    "\n",
    "The command ``cat`` can be used to display the contents of a file on the screen. Type:\n",
    "\n",
    "```\n",
    "$ cat science.txt\n",
    "\n",
    "```\n",
    "\n",
    "As you can see, the file is longer than than the size of the window. You can scroll back but this is not very useful.\n",
    "\n",
    "\n",
    "**less**\n",
    "\n",
    "The command ``less`` writes the contents of a file onto the screen a page at a time. Type:\n",
    "\n",
    "```\n",
    "$ less science.txt\n",
    "```\n",
    "\n",
    "Press the ``[space-bar]`` if you want to see another page, and type ``[q]`` if you want to quit reading. As you can see, ``less`` is used in preference to ``cat`` for long files.\n",
    "\n",
    " \n",
    "**head**\n",
    "\n",
    "The ``head`` command writes the first ten lines of a file to the screen.\n",
    "\n",
    "First clear the screen then type:\n",
    "\n",
    "```\n",
    "$ head science.txt\n",
    "```\n",
    "\n",
    "Then type:\n",
    "\n",
    "```\n",
    "$ head -5 science.txt\n",
    "```\n",
    "\n",
    "What difference did the ``-5`` do to the head command?\n",
    "\n",
    " \n",
    "**tail**\n",
    "\n",
    "The tail command writes the last ten lines of a file to the screen.\n",
    "\n",
    "Clear the screen and type:\n",
    "\n",
    "```\n",
    "$ tail science.txt\n",
    "```\n",
    "\n",
    "<img src=\"../img/logo_ex.png\" align=\"left\" style=\"width:1em; height:1em;\"> **Exercise**: How can you view the last 15 lines of the file?"
   ]
  },
  {
   "cell_type": "markdown",
   "metadata": {},
   "source": [
    "### Searching the contents of a file"
   ]
  },
  {
   "cell_type": "markdown",
   "metadata": {},
   "source": [
    "**Simple searching using ``less``**\n",
    "\n",
    "Using ``less``, you can search through a text file for a keyword (pattern). For example, to search through ``science.txt`` for the word \"science\", type:\n",
    "\n",
    "```\n",
    "$ less science.txt\n",
    "```\n",
    "\n",
    "then, still in ``less``, type a forward slash ``[/]`` followed by the word to search:\n",
    "\n",
    "```\n",
    "/science\n",
    "```\n",
    "\n",
    "And tape ``[enter]``. Type ``[n]`` to search for the next occurrence of the word.\n",
    "\n",
    " \n",
    "**grep**\n",
    "\n",
    "``grep`` is one of many standard linux utilities. It searches files for specified words or patterns. First clear the screen, then type:\n",
    "\n",
    "```\n",
    "$ grep science science.txt\n",
    "```\n",
    "\n",
    "As you can see, ``grep`` has printed out each line containg the word science.\n",
    "\n",
    "Or has it ????\n",
    "\n",
    "Try typing:\n",
    "\n",
    "```\n",
    "$ grep Science science.txt\n",
    "```\n",
    "\n",
    "The ``grep`` command is case sensitive; it distinguishes between Science and science.\n",
    "\n",
    "To ignore upper/lower case distinctions, use the ``-i`` option, i.e. type:\n",
    "\n",
    "```\n",
    "$ grep -i science science.txt\n",
    "```\n",
    "\n",
    "To search for a phrase or pattern, you must enclose it in single quotes (the apostrophe symbol). For example to search for spinning top, type:\n",
    "\n",
    "```\n",
    "$ grep -i 'spinning top' science.txt\n",
    "```\n",
    "\n",
    "Some of the other options of ``grep`` are:\n",
    "- ``-v`` display those lines that do NOT match\n",
    "- ``-n`` precede each matching line with the line number\n",
    "- ``-c`` print only the total count of matched lines\n",
    "\n",
    "Try some of them and see the different results. Don't forget, you can use more than one option at a time. For example, the number of lines without the words science or Science is:\n",
    "\n",
    "```\n",
    "$ grep -ivc science science.txt\n",
    "```"
   ]
  },
  {
   "cell_type": "markdown",
   "metadata": {},
   "source": [
    "### Take home points"
   ]
  },
  {
   "cell_type": "markdown",
   "metadata": {},
   "source": [
    "We have only shown some examples of how to navigate in the linux directory structure and use some simple commands. This is by far not sufficient to demonstrate its usefulness: the ``grep`` command for example is extremely powerful to help you find files that you thought you had lost, and ``wget`` a file to a current directory is often much faster than downloading it in firefox and copy it afterwards. For the time being, this short tutorial should help get you started.\n",
    "\n",
    "**To go further**, I recommend to follow [Ryan's linux tutorials](https://ryanstutorials.net/linuxtutorial/), they are excellent! "
   ]
  },
  {
   "cell_type": "markdown",
   "metadata": {},
   "source": [
    "## Executable scripts"
   ]
  },
  {
   "cell_type": "markdown",
   "metadata": {},
   "source": [
    "Now that you are familiar with the command line, you must have noticed that linux commands have some similarities with the **statements** you used in your bachelor programming course: by typing them in, the computer does things for you and gives you information back (often printed on screen, but not always). When you want to **automate** a series of commands you just typed in (for example renaming and moving files), a natural thing would be to write a **script** to do so. \n",
    "\n",
    "Scripts are the simplest type of program one can write, and this can be seen as your first programming experience in this course. We are going to write a **bash script** and execute it: why we want to do this in a python scientific programming course may be not clear right now, but it will make more sense later I promise. "
   ]
  },
  {
   "cell_type": "markdown",
   "metadata": {},
   "source": [
    "### A simple script "
   ]
  },
  {
   "cell_type": "markdown",
   "metadata": {},
   "source": [
    "In your ``unixstuff`` directory, create a new file name ``myscript.sh``. You can do this using the default (graphical) text editor in linux, ``gedit``. At the command line:\n",
    "\n",
    "````\n",
    "$ gedit myscript.sh\n",
    "```\n",
    "\n",
    "Just type one simple line in the file:\n",
    "\n",
    "```\n",
    "echo Hello World!\n",
    "\n",
    "```\n",
    "\n",
    "Quit your editor and go back to the command line again. You can execute your script with the following command:\n",
    "\n",
    "```\n",
    "$ bash myscript.sh\n",
    "```\n",
    "\n",
    "**Bash** is a so-called \"interpreter\". It reads your file and understands how to execute the commands in it."
   ]
  },
  {
   "cell_type": "markdown",
   "metadata": {},
   "source": [
    "### Make a file executable "
   ]
  },
  {
   "cell_type": "markdown",
   "metadata": {},
   "source": [
    "List the files in your directory, but whith the option ``-l`` for more information. Here is how it looks like on my computer:\n",
    "\n",
    "```\n",
    "mowglie@flappi-top ~/Documents/unixstuff $ ls -l\n",
    "total 28\n",
    "drwxrwxr-x 2 mowglie mowglie 4096 Feb 22 18:05 backup\n",
    "-rw-rw-r-- 1 mowglie mowglie   19 Feb 22 18:44 myscipt.sh\n",
    "-rw-rw-r-- 1 mowglie mowglie 7767 Sep  1  2000 science.txt\n",
    "```\n",
    "\n",
    "The first list of characters indicate the file's **permissions**. Now read the first section of [Ryan's tutorial about permissions](https://ryanstutorials.net/linuxtutorial/permissions.php). So what do we learn from the above? That the file's owner (myself) is allowed to read and write the ``myscript.sh`` file, but not to execute it. Let's change this:\n",
    "\n",
    "```\n",
    "$ chmod a+x myscript.sh\n",
    "```\n",
    "\n",
    "Now everybody (including me) is allowed to execute this file. It is a quite harmless script, so I'm not too worried. Now we can execute it:\n",
    "\n",
    "```\n",
    "$ ./myscript.sh\n",
    "```\n",
    "\n",
    "Nice! We could add much more commands to our script (possibly making it more useful), but this was enough to illustrate the point I wanted to make: files can be executable in Linux, and a whole new world opens to us.\n",
    "\n",
    "**Note:** Most often, it is recommended to add a specific first line to your script, called a **shebang**. This line tells the computer which interpreter should be used to run the file. In our case it is the default interpreter (bash), but this may not always be the case. To be entirely explicit, we recommend to always add a shebang to your script. In this case, we should add ``#!/bin/bash`` to our script:\n",
    "\n",
    "```\n",
    "#!/bin/bash\n",
    "# Maybe some comment line about the purpose of this script\n",
    "\n",
    "echo Hello World!\n",
    "```"
   ]
  },
  {
   "cell_type": "markdown",
   "metadata": {},
   "source": [
    "### Take home points "
   ]
  },
  {
   "cell_type": "markdown",
   "metadata": {},
   "source": [
    "It is possible to write simple programs in linux called \"scripts\". These scripts can be executed by the default interpreter, and be made \"executable\" very easily. If you want to know more about bash scripts, read [Ryan's tutorial about the subject](https://ryanstutorials.net/bash-scripting-tutorial/)!"
   ]
  },
  {
   "cell_type": "markdown",
   "metadata": {},
   "source": [
    "## The linux PATH "
   ]
  },
  {
   "cell_type": "markdown",
   "metadata": {},
   "source": [
    "### Locate linux programs "
   ]
  },
  {
   "cell_type": "markdown",
   "metadata": {},
   "source": [
    "You may have asked yourself: how does the linux command line know about the commands we are using? Where do I find them? A nice program helping us to find out is **which**. Let's use it:\n",
    "\n",
    "```\n",
    "$ which less\n",
    "/usr/bin/less\n",
    "```\n",
    "\n",
    "Now we can use another command, **whatis**, to tell us what we just did:\n",
    "\n",
    "```\n",
    "$ whatis which\n",
    "```\n",
    "\n",
    "\n",
    "The ``which`` command tells us that the ``less`` program is located in ``/usr/bin``. We can also ask ``which`` where to find ``which``:\n",
    "\n",
    "```\n",
    "$ which which\n",
    "/usr/bin/which\n",
    "$ ls -l /usr/bin/which\n",
    "lrwxrwxrwx 1 root root 10 Nov 19 14:42 /usr/bin/which -> /bin/which\n",
    "```\n",
    "\n",
    "As expected, ``which`` is an executable file. Some executables are binary files (i.e. not human readable), but in this case ``which`` is actually a script:\n",
    "\n",
    "```\n",
    "$ less /usr/bin/which\n",
    "```\n",
    "\n"
   ]
  },
  {
   "cell_type": "markdown",
   "metadata": {},
   "source": [
    "<img src=\"../img/logo_ex.png\" align=\"left\" style=\"width:1em; height:1em;\"> **Exercise**: scroll through the script. Can you locate the shebang line? How does the code look like to you: easily understandable, or rather cryptic? "
   ]
  },
  {
   "cell_type": "markdown",
   "metadata": {},
   "source": [
    "### The PATH variable"
   ]
  },
  {
   "cell_type": "markdown",
   "metadata": {},
   "source": [
    "The linux command line knows so-called **environmental variables**. The ``echo`` command can display their value:\n",
    "\n",
    "```\n",
    "$ echo $PATH\n",
    "```\n",
    "\n",
    "(the ``$`` tells echo to display the value of the variable PATH rather than its name). The [PATH](http://www.linfo.org/path_env_var.html) variable contains a list of paths, separated by semicolons. It is an extremely important variable: it tells linux *where* to look for executables and programs. Each time you type a command, linux will look in the PATH and see if it finds it. This is an extremely flexible and powerful system, as we are going to see in the next chapter (Installing Python).\n",
    "\n",
    "The PATH can be extended to contain any other directory you find useful to add. Let's do it:\n",
    "\n",
    "```\n",
    "$ mkdir ~/myprograms\n",
    "$ export PATH=$PATH:~/myprograms\n",
    "```\n",
    "\n",
    "``export`` creates a new variable called PATH (in this case, it overwrites the existing PATH).\n",
    "\n",
    "<img src=\"../img/logo_ex.png\" align=\"left\" style=\"width:1em; height:1em;\"> **Exercise**: now move your executable script ``myscript.sh`` in the ``myprograms`` directory. Verify that you can now execute the ``myscript.sh`` program from any directory.\n",
    "\n",
    "**Note:** we have extended the ``PATH`` variable in *this session* only. If you close and reopen the terminal the changes will be lost. There are ways to make these changes permanent, we will learn them in the next chapter.\n",
    "\n",
    "**Note:** if a program is listed in several path directories, linux takes the first instance. Directories can be prepended and appended, as we will see in the next chapter."
   ]
  },
  {
   "cell_type": "markdown",
   "metadata": {},
   "source": [
    "### Take home points"
   ]
  },
  {
   "cell_type": "markdown",
   "metadata": {},
   "source": [
    "The ``PATH`` variable tells linux where to look for programs and scripts. This is a very simple and powerful way to customize linux with your own scripts and programs. We are going to use this feature to install Python in the next chapter."
   ]
  },
  {
   "cell_type": "markdown",
   "metadata": {},
   "source": [
    "## What's next?"
   ]
  },
  {
   "cell_type": "markdown",
   "metadata": {},
   "source": [
    "Back to the [table of contents](00-Introduction.ipynb#ctoc), or [jump to the next chapter](02-Installation.ipynb)."
   ]
  },
  {
   "cell_type": "markdown",
   "metadata": {},
   "source": [
    "## License"
   ]
  },
  {
   "cell_type": "markdown",
   "metadata": {},
   "source": [
    "<a href=\"https://creativecommons.org/licenses/by/4.0/\" target=\"_blank\">\n",
    "  <img align=\"left\" src=\"https://mirrors.creativecommons.org/presskit/buttons/88x31/svg/by.svg\"/>\n",
    "</a>"
   ]
  }
 ],
 "metadata": {
  "hide_input": false,
  "kernelspec": {
   "display_name": "Python 3",
   "language": "python",
   "name": "python3"
  },
  "language_info": {
   "codemirror_mode": {
    "name": "ipython",
    "version": 3
   },
   "file_extension": ".py",
   "mimetype": "text/x-python",
   "name": "python",
   "nbconvert_exporter": "python",
   "pygments_lexer": "ipython3",
   "version": "3.5.2"
  },
  "latex_envs": {
   "LaTeX_envs_menu_present": true,
   "autoclose": false,
   "autocomplete": true,
   "bibliofile": "biblio.bib",
   "cite_by": "apalike",
   "current_citInitial": 1,
   "eqLabelWithNumbers": true,
   "eqNumInitial": 1,
   "hotkeys": {
    "equation": "Ctrl-E",
    "itemize": "Ctrl-I"
   },
   "labels_anchors": false,
   "latex_user_defs": false,
   "report_style_numbering": false,
   "user_envs_cfg": false
  },
  "nbTranslate": {
   "displayLangs": [
    "*"
   ],
   "hotkey": "alt-t",
   "langInMainMenu": true,
   "sourceLang": "en",
   "targetLang": "fr",
   "useGoogleTranslate": true
  },
  "toc": {
   "base_numbering": 1,
   "nav_menu": {},
   "number_sections": true,
   "sideBar": true,
   "skip_h1_title": false,
   "title_cell": "Table of Contents",
   "title_sidebar": "Contents",
   "toc_cell": true,
   "toc_position": {
    "height": "calc(100% - 180px)",
    "left": "10px",
    "top": "150px",
    "width": "384px"
   },
   "toc_section_display": "block",
   "toc_window_display": true
  }
 },
 "nbformat": 4,
 "nbformat_minor": 2
}
