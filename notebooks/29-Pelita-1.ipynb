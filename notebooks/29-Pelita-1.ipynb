{
 "cells": [
  {
   "cell_type": "markdown",
   "metadata": {},
   "source": [
    "# Pelita: learning by gaming (part I)"
   ]
  },
  {
   "cell_type": "markdown",
   "metadata": {
    "toc": true
   },
   "source": [
    "<h1>Table of Contents<span class=\"tocSkip\"></span></h1>\n",
    "<div class=\"toc\"><ul class=\"toc-item\"><li><span><a href=\"#Pelita:-learning-by-gaming-(part-I)\" data-toc-modified-id=\"Pelita:-learning-by-gaming-(part-I)-29\"><span class=\"toc-item-num\">29&nbsp;&nbsp;</span>Pelita: learning by gaming (part I)</a></span><ul class=\"toc-item\"><li><span><a href=\"#The-pelita-contest\" data-toc-modified-id=\"The-pelita-contest-29.1\"><span class=\"toc-item-num\">29.1&nbsp;&nbsp;</span>The pelita contest</a></span></li><li><span><a href=\"#Objectives\" data-toc-modified-id=\"Objectives-29.2\"><span class=\"toc-item-num\">29.2&nbsp;&nbsp;</span>Objectives</a></span></li><li><span><a href=\"#Getting-started\" data-toc-modified-id=\"Getting-started-29.3\"><span class=\"toc-item-num\">29.3&nbsp;&nbsp;</span>Getting started</a></span><ul class=\"toc-item\"><li><span><a href=\"#Installing-Pelita\" data-toc-modified-id=\"Installing-Pelita-29.3.1\"><span class=\"toc-item-num\">29.3.1&nbsp;&nbsp;</span>Installing Pelita</a></span></li><li><span><a href=\"#Download-the-demo-players-and-test-the-game\" data-toc-modified-id=\"Download-the-demo-players-and-test-the-game-29.3.2\"><span class=\"toc-item-num\">29.3.2&nbsp;&nbsp;</span>Download the demo players and test the game</a></span></li><li><span><a href=\"#Run-a-couple-of-games-and-have-a-look-at-the-players'-code\" data-toc-modified-id=\"Run-a-couple-of-games-and-have-a-look-at-the-players'-code-29.3.3\"><span class=\"toc-item-num\">29.3.3&nbsp;&nbsp;</span>Run a couple of games and have a look at the players' code</a></span></li></ul></li></ul></li></ul></div>"
   ]
  },
  {
   "cell_type": "markdown",
   "metadata": {},
   "source": [
    "## The pelita contest"
   ]
  },
  {
   "cell_type": "markdown",
   "metadata": {},
   "source": [
    "Pelita is an \"Actor-based Toolkit for Interactive Language Education in Python\", or put simply: it is a Pac-Man like game. The game was created for an [Advanced Scientific Python summer school](https://python.g-node.org/wiki/start), and we are going to use it as well.\n",
    "\n",
    "In the last weeks of this semester, I will ask you to work in team and code a player for this game. The last Tuesday of the semester will be \"Pelita contest day\", where all teams will play against each other in a friendly competition."
   ]
  },
  {
   "cell_type": "markdown",
   "metadata": {},
   "source": [
    "## Objectives "
   ]
  },
  {
   "cell_type": "markdown",
   "metadata": {},
   "source": [
    "The specific objectives of this exercise are:\n",
    "- to learn how to introspect and use a large codebase (the game) for your purpose (writing a player)\n",
    "- to apply the concepts learned during the lecture: organize your code in clear modules, use object oriented concepts (if you want to) and write tests!\n",
    "- to define development strategies in a team\n",
    "- to have fun!\n",
    "\n",
    "As you are going to see, it is possible to write simple to (very) complex strategies for your players. You should not try to develop the \"best\" strategy from scratch but rather advance in smaller steps. Also, you should know when to stop: I don't expect you to create the best players ever, nor do I expect you to spend all your time on this. Try to avoid bugs, try to develop simple but clever players, and have fun!\n",
    "\n",
    "**The Pelita game is not graded and the outcome of the contest has no influence whatsoever on your final grade**: we are using this game to spend the last couple of weeks doing something different with our programming skills."
   ]
  },
  {
   "cell_type": "markdown",
   "metadata": {},
   "source": [
    "The Pelita developers write it this way:\n",
    "\n",
    "*We expect you to try out the techniques, and evaluate what is feasible and what not, what helps you being more efficient at writing reliable code, and what feels like a hindrance instead. By doing this in the group we expect you to profit from the experience of other students, and, by explaining to other students your own experiences, to become more aware of what is it that you already master and what is it that you still have to learn.*\n",
    "\n",
    "*Write tests for the part of your code which are testable, decide what parts you can test, what parts you should test, what parts you must test, and also what parts can not be tested.*\n",
    "\n",
    "*The idea of the group project is not to write the most powered bots! Remember that and don't get carried away by the competition :)*"
   ]
  },
  {
   "cell_type": "markdown",
   "metadata": {},
   "source": [
    "**A final remark:** someone wrote to me on the semester evaluation that they did not participate in Pelita because: *\"I am not into computer games at all\"* (quote). I don't really care if you don't want to invest time in the game, but this argument really is a bad one: Pelita may be a computer game, but the true game here is to use coding to build something that moves and does stuff (a little bit like legos ;). "
   ]
  },
  {
   "cell_type": "markdown",
   "metadata": {},
   "source": [
    "## Getting started"
   ]
  },
  {
   "cell_type": "markdown",
   "metadata": {},
   "source": [
    "We will go into more details about the game next week. For this week, I'm only asking you to get the game to work in your laptop (if you are using the university computers, just make sure that the game runs for you by starting at \"Download the demo players and test the game\")."
   ]
  },
  {
   "cell_type": "markdown",
   "metadata": {},
   "source": [
    "### Installing Pelita"
   ]
  },
  {
   "cell_type": "markdown",
   "metadata": {},
   "source": [
    "In your conda environment, install pelita with:\n",
    "\n",
    "```\n",
    "$ pip install pelita\n",
    "\n",
    "```\n",
    "\n",
    "Note: users of conda on macOS, please watch out for bug https://github.com/ContinuumIO/anaconda-issues/issues/11165. If this occurs, do a `conda install tk=8.6.7` before running Pelita. This is only needed on macOS!\n",
    "\n",
    "To run your first game, simply call ``$ pelita`` from the command line!"
   ]
  },
  {
   "cell_type": "markdown",
   "metadata": {},
   "source": [
    "### Download the demo players and test the game"
   ]
  },
  {
   "cell_type": "markdown",
   "metadata": {},
   "source": [
    "Fortunately, you won't have to start from scratch: you have access to a number of simple \"demo players\", each illustrating a possible \"strategy\" for your own player.\n",
    "\n",
    "Download the demo players from this repository: https://github.com/ASPP/pelita_template \n",
    "\n",
    "Unzip the file somewhere where you will find it again, and from the command line and in the `pelita_template` folder, type:\n",
    "\n",
    "```\n",
    "$ python -m pytest\n",
    "```\n",
    "\n",
    "You should see an output similar to:\n",
    "\n",
    "```\n",
    "[c7071047@zid-desk pelita_template]$ python -m pytest\n",
    "============================= test session starts ==============================\n",
    "platform linux -- Python 3.7.3, pytest-5.3.0, py-1.8.0, pluggy-0.12.0\n",
    "rootdir: /home/c7071047/Documents/pelita_template\n",
    "collected 16 items                                                             \n",
    "\n",
    "test_demo01_stopping.py ...                                              [ 18%]\n",
    "test_demo02_random.py ..                                                 [ 31%]\n",
    "test_demo03_smartrandom.py ....                                          [ 56%]\n",
    "test_demo04_basic_attacker.py ...                                        [ 75%]\n",
    "test_demo05_basic_defender.py ...                                        [ 93%]\n",
    "test_demo09_polite_random.py .                                           [100%]\n",
    "\n",
    "============================== 16 passed in 1.35s ==============================\n",
    "```"
   ]
  },
  {
   "cell_type": "markdown",
   "metadata": {},
   "source": [
    "You are now ready to go!"
   ]
  },
  {
   "cell_type": "markdown",
   "metadata": {},
   "source": [
    "### Run a couple of games and have a look at the players' code "
   ]
  },
  {
   "cell_type": "markdown",
   "metadata": {},
   "source": [
    "The documentation of the game is displayed in the pelita template repository: https://github.com/ASPP/pelita_template. Skim through the first sections of the documentation, until \"unit testing\".\n",
    "\n",
    "Now:\n",
    "- play a game between two demo players of your choice\n",
    "- play it again: once without a seed, and once with the same seed\n",
    "- skim through the various demo players code. Which player do you think is most likely to win?"
   ]
  },
  {
   "cell_type": "markdown",
   "metadata": {},
   "source": [
    "Back to the [table of contents](00-Introduction.ipynb#ctoc)."
   ]
  }
 ],
 "metadata": {
  "hide_input": false,
  "kernelspec": {
   "display_name": "Python 3",
   "language": "python",
   "name": "python3"
  },
  "language_info": {
   "codemirror_mode": {
    "name": "ipython",
    "version": 3
   },
   "file_extension": ".py",
   "mimetype": "text/x-python",
   "name": "python",
   "nbconvert_exporter": "python",
   "pygments_lexer": "ipython3",
   "version": "3.5.2"
  },
  "latex_envs": {
   "LaTeX_envs_menu_present": true,
   "autoclose": false,
   "autocomplete": true,
   "bibliofile": "biblio.bib",
   "cite_by": "apalike",
   "current_citInitial": 1,
   "eqLabelWithNumbers": true,
   "eqNumInitial": 1,
   "hotkeys": {
    "equation": "Ctrl-E",
    "itemize": "Ctrl-I"
   },
   "labels_anchors": false,
   "latex_user_defs": false,
   "report_style_numbering": false,
   "user_envs_cfg": false
  },
  "nbTranslate": {
   "displayLangs": [
    "*"
   ],
   "hotkey": "alt-t",
   "langInMainMenu": true,
   "sourceLang": "en",
   "targetLang": "fr",
   "useGoogleTranslate": true
  },
  "toc": {
   "base_numbering": "29",
   "nav_menu": {},
   "number_sections": true,
   "sideBar": true,
   "skip_h1_title": false,
   "title_cell": "Table of Contents",
   "title_sidebar": "Contents",
   "toc_cell": true,
   "toc_position": {
    "height": "750px",
    "left": "29px",
    "top": "111px",
    "width": "345px"
   },
   "toc_section_display": true,
   "toc_window_display": true
  }
 },
 "nbformat": 4,
 "nbformat_minor": 2
}
