{
 "cells": [
  {
   "cell_type": "markdown",
   "metadata": {},
   "source": [
    "# Project #1: the ClimVis package"
   ]
  },
  {
   "cell_type": "markdown",
   "metadata": {},
   "source": [
    "This is the main project of this semester, and will count for 30% of the final grade. The submission is going to happen in three stages:\n",
    "- **First submission deadline: Sunday 08.12.2019** (one ``.zip`` file per group containing their version of the climvis package)\n",
    "- Code review by me and 30 min feedback round per group (week from December 09 to December 13)\n",
    "- **Second submission deadline: Sunday 12.01.2020**\n",
    "\n",
    "Here are the points I will take into account for the grading:\n",
    "- code quality: **documentation, comments, tests**, compliance to pep8\n",
    "- traceability of group work: who did what, are the author(s) name(s) provided in the function's docstrings\n",
    "- level and complexity of the implemented tools (i.e. amount of programming work)\n",
    "- originality of the implemented tools\n",
    "- reaction to the code reviews and updates\n",
    "\n",
    "I will try and test the code (using pytest) on my computer - any new data or library that is necessary should be documented in the code, or in the command line utility documentation!"
   ]
  },
  {
   "cell_type": "markdown",
   "metadata": {},
   "source": [
    "## The climvis package"
   ]
  },
  {
   "cell_type": "markdown",
   "metadata": {},
   "source": [
    "I've written a small package called **climvis**. Its design is based on the [template package](https://github.com/fmaussion/scispack), but this time it really does something.\n",
    "\n",
    "**Download the zipped package from [here](https://github.com/fmaussion/climvis/archive/master.zip) and extract it. Read the README and the package requirements first. You will have to install the [motionless](https://github.com/ryancox/motionless) package for it to work: it is not available on conda, but you can install it with: `pip install motionless`**\n",
    "\n",
    "**Now install climvis in development mode. If you are working on your own computer run:**\n",
    "\n",
    "    pip install -e .\n",
    "    \n",
    "from the root directory. **If you are working on the university computer, run:**\n",
    "\n",
    "    pip install --user -e .\n",
    "    \n",
    "instead."
   ]
  },
  {
   "cell_type": "markdown",
   "metadata": {},
   "source": [
    "**Try the command line interface (``cruvis -h``) from a terminal. Now explore ``setup.py``: can you identify what makes the command available from the terminal? Where is the code executing the command ``cruvis``?**"
   ]
  },
  {
   "cell_type": "markdown",
   "metadata": {},
   "source": [
    "**Familiarize yourself with the tool. Can you understand what the role of each function is?**"
   ]
  },
  {
   "cell_type": "markdown",
   "metadata": {},
   "source": [
    "**Can you run the tests successfully? Probably not. Somewhere in ``cfg.py``, a hard coded path is pointing to a non-existing directory.**\n",
    "\n",
    "**If you are working on your own computer, change the path to a local folder of yours and download the necessary data:**\n",
    "- [temperature](https://crudata.uea.ac.uk/cru/data/hrg/cru_ts_4.03/cruts.1905011326.v4.03/tmp/cru_ts4.03.1901.2018.tmp.dat.nc.gz)\n",
    "- [precipitation](https://crudata.uea.ac.uk/cru/data/hrg/cru_ts_4.03/cruts.1905011326.v4.03/pre/cru_ts4.03.1901.2018.pre.dat.nc.gz)\n",
    "- [elevation](https://cluster.klima.uni-bremen.de/~fmaussion/misc/cru_cl1_topography.nc)\n",
    "\n",
    "**Careful! The total decompressed output is about 6GB large.**\n",
    "\n",
    "\n",
    "**If you are working on the university computer, a folder containing the data is available at:**\n",
    "\n",
    "    /project/c7071047/data-scipro/\n",
    "\n",
    "**The scratch folder contains only a subset of the data (Central Europe): the tool works for these locations, but not globally.**"
   ]
  },
  {
   "cell_type": "markdown",
   "metadata": {},
   "source": [
    "Make sure you are able to run the command succesfully before going on. For example, ``cruvis -l 12 47`` should work fine and display a page in your browser."
   ]
  },
  {
   "cell_type": "markdown",
   "metadata": {},
   "source": [
    "## Guided exercise: make the tool more robust"
   ]
  },
  {
   "cell_type": "markdown",
   "metadata": {},
   "source": [
    "Here are a couple of smaller tasks to get you started:\n",
    "- The hard coded path in ``cfg.py`` is very ugly. At the same time, we really need the CRU data for the tool to run! Add a safety check in the code in order to make sure the files are available. If the CRU files are not available, print the following message and exit the program:\n",
    "\n",
    "   ``The CRU files are not available on this system. For cruvis to work properly, please create a file called \".cruvis\" in your HOME directory, and indicate the path to the CRU directory in it.``\n",
    "\n",
    "\n",
    "- Add a small function in ``cfg.py`` which parses this new ``.cruvis`` file and uses the given directory in place of the hard-coded one. Tip: you could make good use of [os.path.expanduser](https://docs.python.org/3/library/os.path.html#os.path.expanduser) for this function.\n",
    "\n",
    "- Selecting a location over the oceans will raise a very uninformative python error message. Make the ``write_html`` function more robust: if the data contains NaNs, print a warning and exit the program.\n",
    " "
   ]
  },
  {
   "cell_type": "markdown",
   "metadata": {},
   "source": [
    "## Project: make the tool better"
   ]
  },
  {
   "cell_type": "markdown",
   "metadata": {},
   "source": [
    "Now you should be ready to contribute to this great package! **Add at least N simple functionalities** to it, where N is your group size (2, 3, or 4). This functionality can be anything you want, as long as it makes you write some code. \n",
    "\n",
    "Here are some ideas of functionalities that you can adapt at wish:\n",
    "- you could add a plot of the 1901-2018 timeseries for this grid point, and make a trend analysis for the period.\n",
    "- you could add [other data from CRU](https://crudata.uea.ac.uk/cru/data/hrg/cru_ts_4.03/) to the plot.\n",
    "- you could add a new command to the tool called ``uibkvis``, which instead plots the data from the UIBK weather stations. For example, you could plot the temperature for all stations, or even better: give choices to the user as to what they want to plot. You'll have to document its command line options of course. You can get inspiration from [last year's excercise](https://fabienmaussion.info/scipro_ss2018/html/12-Assignment-03.html#Exercise-#03-02:-ACINN-meteorological-data), which we didn't have time to do this year.\n",
    "- you could redo the plots from the [old ACINN webpage](http://meteo145.uibk.ac.at/current-weather/innsbruck-university), but better?\n",
    "- you could use a python [windrose](https://github.com/python-windrose/windrose) package to plot a windrose from the uibk data, and maybe extend assignment 06 (wind statistics) to produce a webpage (instead of the sentence it produces now)  \n",
    "- you could add an option to ``cruvis``, which accepts a city name instead of the lon and lat of the point. You could use the file shipped with the package for this (`world_cities.csv`).\n",
    "- you could add a new command line tool to compare the climate at two locations.\n",
    "- you could parse any other data you'd find interesting from the web and plot it! For example, [upper air soundings](http://weather.uwyo.edu/upperair/sounding.html)? \n",
    "- you could use an interactive plotting library like [Bokeh](https://bokeh.pydata.org) (possibly by making use of higher level tools like [holoviews](http://holoviews.org/)) to make reactive plots in your HTML page.\n",
    "- **any idea you find interesting**! You can discuss some ideas with me beforehand if you are unsure."
   ]
  },
  {
   "cell_type": "markdown",
   "metadata": {},
   "source": [
    "Some tasks are more difficult than others. I don't mind if you take an easy one, as long as you write something on your own, and write good code. Try to split the tasks within the group to get something coherent, ideally not only with \"easy\" tasks! **Don't forget to write tests.**"
   ]
  },
  {
   "cell_type": "markdown",
   "metadata": {},
   "source": [
    "*Back to the [table of contents](00-Introduction.ipynb#ctoc)*"
   ]
  }
 ],
 "metadata": {
  "hide_input": false,
  "kernelspec": {
   "display_name": "Python 3",
   "language": "python",
   "name": "python3"
  },
  "language_info": {
   "codemirror_mode": {
    "name": "ipython",
    "version": 3
   },
   "file_extension": ".py",
   "mimetype": "text/x-python",
   "name": "python",
   "nbconvert_exporter": "python",
   "pygments_lexer": "ipython3",
   "version": "3.5.2"
  },
  "latex_envs": {
   "LaTeX_envs_menu_present": true,
   "autoclose": false,
   "autocomplete": true,
   "bibliofile": "biblio.bib",
   "cite_by": "apalike",
   "current_citInitial": 1,
   "eqLabelWithNumbers": true,
   "eqNumInitial": 1,
   "hotkeys": {
    "equation": "Ctrl-E",
    "itemize": "Ctrl-I"
   },
   "labels_anchors": false,
   "latex_user_defs": false,
   "report_style_numbering": false,
   "user_envs_cfg": false
  },
  "nbTranslate": {
   "displayLangs": [
    "*"
   ],
   "hotkey": "alt-t",
   "langInMainMenu": true,
   "sourceLang": "en",
   "targetLang": "fr",
   "useGoogleTranslate": true
  },
  "toc": {
   "base_numbering": 1,
   "nav_menu": {},
   "number_sections": false,
   "sideBar": true,
   "skip_h1_title": false,
   "title_cell": "Table of Contents",
   "title_sidebar": "Contents",
   "toc_cell": false,
   "toc_position": {},
   "toc_section_display": "block",
   "toc_window_display": false
  }
 },
 "nbformat": 4,
 "nbformat_minor": 2
}
